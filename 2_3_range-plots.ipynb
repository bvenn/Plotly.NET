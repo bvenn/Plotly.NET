
        {
            "cells": [
          {
           "cell_type": "markdown",
           "metadata": {},
           
           "source": ["// can\u0027t yet format YamlFrontmatter ([\"title: Range plots\"; \"category: Simple Charts\"; \"categoryindex: 3\"; \"index: 4\"], Some { StartLine = 2 StartColumn = 0 EndLine = 6 EndColumn = 8 }) to pynb markdown\n",
"\n"]
          }
,
          {
           "cell_type": "code",
           "metadata": {},
            "execution_count": null, "outputs": [], 
           "source": ["#r \"nuget: Plotly.NET, 2.0.0\"\n",
"#r \"nuget: Plotly.NET.Interactive, 2.0.0\"\n"]
          }
,
          {
           "cell_type": "markdown",
           "metadata": {},
           
           "source": ["# Range plots\n",
"\n",
"[![Binder](https://plotly.net/img/badge-binder.svg)](https://mybinder.org/v2/gh/plotly/Plotly.NET/gh-pages?filepath=2_3_range-plots.ipynb)\u0026emsp;\n",
"[![Script](https://plotly.net/img/badge-script.svg)](https://plotly.net/2_3_range-plots.fsx)\u0026emsp;\n",
"[![Notebook](https://plotly.net/img/badge-notebook.svg)](https://plotly.net/2_3_range-plots.ipynb)\n",
"\n",
"*Summary:* This example shows how to create Range plot charts in F#.\n",
"\n",
"let\u0027s first create some data for the purpose of creating example charts:\n",
"\n",
"\n"]
          }
,
          {
           "cell_type": "code",
           "metadata": {},
            "execution_count": 3, "outputs": [], 
           "source": ["open Plotly.NET \n",
"\n",
"let rnd = System.Random()\n",
"\n",
"let x  = [1.; 2.; 3.; 4.; 5.; 6.; 7.; 8.; 9.; 10.; ]\n",
"let y = [2.; 1.5; 5.; 1.5; 3.; 2.5; 2.5; 1.5; 3.5; 1.]\n",
"\n",
"let yUpper = y |\u003e List.map (fun v -\u003e v + rnd.NextDouble())\n",
"let yLower = y |\u003e List.map (fun v -\u003e v - rnd.NextDouble())\n"]
          }
,
          {
           "cell_type": "markdown",
           "metadata": {},
           
           "source": ["A range plot is commonly used to indicate some property of data that lies in a certain range around a central value,\n",
"for example the range of all predictions from different models, scattering around a central tendency.\n",
"\n"]
          }
,
          {
           "cell_type": "code",
           "metadata": {},
            "execution_count": 4, "outputs": [], 
           "source": ["let range1 =\n",
"    Chart.Range(\n",
"        x,y,yUpper,yLower,\n",
"        StyleParam.Mode.Lines_Markers,\n",
"        Color=\"grey\",\n",
"        RangeColor=\"lightblue\")\n"]
          }
,
          {
           "cell_type": "code",
           "metadata": {},
            "execution_count": null, "outputs": [
          {
           "data": {
            "text/html": ["\u003cdiv id=\"bf292aa1-2e64-42a6-a577-7f44113c2e63\" style=\"width: 600px; height: 600px;\"\u003e\u003c!-- Plotly chart will be drawn inside this DIV --\u003e\u003c/div\u003e",
"\u003cscript type=\"text/javascript\"\u003e",
"",
"            var renderPlotly_bf292aa12e6442a6a5777f44113c2e63 = function() {",
"            var fsharpPlotlyRequire = requirejs.config({context:\u0027fsharp-plotly\u0027,paths:{plotly:\u0027https://cdn.plot.ly/plotly-latest.min\u0027}}) || require;",
"            fsharpPlotlyRequire([\u0027plotly\u0027], function(Plotly) {",
"",
"            var data = [{\"type\":\"scatter\",\"x\":[1.0,2.0,3.0,4.0,5.0,6.0,7.0,8.0,9.0,10.0],\"y\":[1.2146307333440665,1.4439467503428212,4.379981425767756,1.3369545237333302,2.240293608624625,2.0210057979081784,2.333519924354516,1.2460441946732086,3.1358153748492783,0.6085748712572152],\"mode\":\"lines\",\"fillcolor\":\"lightblue\",\"showlegend\":false,\"line\":{\"width\":0.0},\"marker\":{\"color\":\"lightblue\"}},{\"type\":\"scatter\",\"x\":[1.0,2.0,3.0,4.0,5.0,6.0,7.0,8.0,9.0,10.0],\"y\":[2.482715307028366,2.004132110394599,5.064914635412821,2.483307039357399,3.8295758039828276,3.2442737462670888,3.417550059462688,2.159271999569271,3.9956096962539522,1.8984211557071755],\"mode\":\"lines\",\"fill\":\"tonexty\",\"fillcolor\":\"lightblue\",\"showlegend\":false,\"line\":{\"width\":0.0},\"marker\":{\"color\":\"lightblue\"}},{\"type\":\"scatter\",\"x\":[1.0,2.0,3.0,4.0,5.0,6.0,7.0,8.0,9.0,10.0],\"y\":[2.0,1.5,5.0,1.5,3.0,2.5,2.5,1.5,3.5,1.0],\"mode\":\"lines+markers\",\"fillcolor\":\"grey\",\"line\":{\"color\":\"grey\"},\"marker\":{\"color\":\"grey\"}}];",
"            var layout = {};",
"            var config = {};",
"            Plotly.newPlot(\u0027bf292aa1-2e64-42a6-a577-7f44113c2e63\u0027, data, layout, config);",
"});",
"            };",
"            if ((typeof(requirejs) !==  typeof(Function)) || (typeof(requirejs.config) !== typeof(Function))) {",
"                var script = document.createElement(\"script\");",
"                script.setAttribute(\"src\", \"https://cdnjs.cloudflare.com/ajax/libs/require.js/2.3.6/require.min.js\");",
"                script.onload = function(){",
"                    renderPlotly_bf292aa12e6442a6a5777f44113c2e63();",
"                };",
"                document.getElementsByTagName(\"head\")[0].appendChild(script);",
"            }",
"            else {",
"                renderPlotly_bf292aa12e6442a6a5777f44113c2e63();",
"            }",
"\u003c/script\u003e",
""]
        },
           "execution_count": null,
           "metadata": {},
           "output_type": "execute_result"
          }], 
           "source": ["range1\n"]
          }],
            "metadata": {
            "kernelspec": {"display_name": ".NET (F#)", "language": "F#", "name": ".net-fsharp"},
            "langauge_info": {
        "file_extension": ".fs",
        "mimetype": "text/x-fsharp",
        "name": "C#",
        "pygments_lexer": "fsharp",
        "version": "4.5"
        }
        },
            "nbformat": 4,
            "nbformat_minor": 1
        }
        


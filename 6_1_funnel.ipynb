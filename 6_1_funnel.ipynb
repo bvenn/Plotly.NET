
        {
            "cells": [
          {
           "cell_type": "markdown",
           "metadata": {},
           
           "source": ["// can\u0027t yet format YamlFrontmatter ([\"title: Funnel Charts\"; \"category: Finance Charts\"; \"categoryindex: 7\"; \"index: 2\"], Some { StartLine = 2 StartColumn = 0 EndLine = 6 EndColumn = 8 }) to pynb markdown\n",
"\n"]
          }
,
          {
           "cell_type": "code",
           "metadata": {},
            "execution_count": null, "outputs": [], 
           "source": ["#r \"nuget: Plotly.NET, 2.0.0\"\n",
"#r \"nuget: Plotly.NET.Interactive, 2.0.0\"\n"]
          }
,
          {
           "cell_type": "markdown",
           "metadata": {},
           
           "source": ["# Funnel Charts\n",
"\n",
"[![Binder](https://plotly.net/img/badge-binder.svg)](https://mybinder.org/v2/gh/plotly/Plotly.NET/gh-pages?filepath=6_1_funnel.ipynb)\u0026emsp;\n",
"[![Script](https://plotly.net/img/badge-script.svg)](https://plotly.net/6_1_funnel.fsx)\u0026emsp;\n",
"[![Notebook](https://plotly.net/img/badge-notebook.svg)](https://plotly.net/6_1_funnel.ipynb)\n",
"\n",
"*Summary:* This example shows how to create funnel charts in F#.\n",
"\n",
"let\u0027s first create some data for the purpose of creating example charts:\n",
"\n"]
          }
,
          {
           "cell_type": "code",
           "metadata": {},
            "execution_count": 3, "outputs": [], 
           "source": ["let y = [|\"Sales person A\"; \"Sales person B\"; \"Sales person C\"; \"Sales person D\"; \"Sales person E\"|]\n",
"let x = [|1200.; 909.4; 600.6; 300.; 80.|]\n"]
          }
,
          {
           "cell_type": "markdown",
           "metadata": {},
           
           "source": ["Funnel charts visualize stages in a process using length-encoded bars. This trace can be used to show data in either a part-to-whole \n",
"representation wherein each item appears in a single stage, or in a \"drop-off\" representation wherein each item appears in each stage \n",
"it traversed. See also the [FunnelArea](https://plotly.net//6_2_funnel_area.html) chart for a different approach to visualizing funnel data.\n",
"\n"]
          }
,
          {
           "cell_type": "code",
           "metadata": {},
            "execution_count": 4, "outputs": [], 
           "source": ["open Plotly.NET \n",
"\n",
"// Customize the connector lines used to connect the funnel bars\n",
"let connectorLine = Line.init (Color=\"royalblue\", Dash=StyleParam.DrawingStyle.Dot, Width=3.)\n",
"let connector = FunnelConnector.init(Line=connectorLine)\n",
"\n",
"// Customize the outline of the funnel bars\n",
"let line = Line.init(Width=2.,Color=\"3E4E88\")\n",
"\n",
"// create a funnel chart using custom connectors and outlines\n",
"let funnel =\n",
"    Chart.Funnel (x,y,Color=\"59D4E8\", Line=line, Connector=connector)\n",
"    |\u003e Chart.withMarginSize(Left=100)\n"]
          }
,
          {
           "cell_type": "code",
           "metadata": {},
            "execution_count": null, "outputs": [
          {
           "data": {
            "text/html": ["\u003cdiv id=\"69bf84fd-e8a0-4210-b013-99244896b5a6\" style=\"width: 600px; height: 600px;\"\u003e\u003c!-- Plotly chart will be drawn inside this DIV --\u003e\u003c/div\u003e",
"\u003cscript type=\"text/javascript\"\u003e",
"",
"            var renderPlotly_69bf84fde8a04210b01399244896b5a6 = function() {",
"            var fsharpPlotlyRequire = requirejs.config({context:\u0027fsharp-plotly\u0027,paths:{plotly:\u0027https://cdn.plot.ly/plotly-latest.min\u0027}}) || require;",
"            fsharpPlotlyRequire([\u0027plotly\u0027], function(Plotly) {",
"",
"            var data = [{\"type\":\"funnel\",\"x\":[1200.0,909.4,600.6,300.0,80.0],\"y\":[\"Sales person A\",\"Sales person B\",\"Sales person C\",\"Sales person D\",\"Sales person E\"],\"connector\":{\"line\":{\"color\":\"royalblue\",\"width\":3.0,\"dash\":\"dot\"}},\"marker\":{\"color\":\"59D4E8\",\"line\":{\"color\":\"3E4E88\",\"width\":2.0}}}];",
"            var layout = {\"margin\":{\"l\":100}};",
"            var config = {};",
"            Plotly.newPlot(\u002769bf84fd-e8a0-4210-b013-99244896b5a6\u0027, data, layout, config);",
"});",
"            };",
"            if ((typeof(requirejs) !==  typeof(Function)) || (typeof(requirejs.config) !== typeof(Function))) {",
"                var script = document.createElement(\"script\");",
"                script.setAttribute(\"src\", \"https://cdnjs.cloudflare.com/ajax/libs/require.js/2.3.6/require.min.js\");",
"                script.onload = function(){",
"                    renderPlotly_69bf84fde8a04210b01399244896b5a6();",
"                };",
"                document.getElementsByTagName(\"head\")[0].appendChild(script);",
"            }",
"            else {",
"                renderPlotly_69bf84fde8a04210b01399244896b5a6();",
"            }",
"\u003c/script\u003e",
""]
        },
           "execution_count": null,
           "metadata": {},
           "output_type": "execute_result"
          }], 
           "source": ["funnel\n"]
          }],
            "metadata": {
            "kernelspec": {"display_name": ".NET (F#)", "language": "F#", "name": ".net-fsharp"},
            "langauge_info": {
        "file_extension": ".fs",
        "mimetype": "text/x-fsharp",
        "name": "C#",
        "pygments_lexer": "fsharp",
        "version": "4.5"
        }
        },
            "nbformat": 4,
            "nbformat_minor": 1
        }
        


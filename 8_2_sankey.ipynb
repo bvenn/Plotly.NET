
        {
            "cells": [
          {
           "cell_type": "markdown",
           "metadata": {},
           
           "source": ["// can\u0027t yet format YamlFrontmatter ([\"title: Sankey Charts\"; \"category: Categorical Charts\"; \"categoryindex: 10\"; \"index: 3\"], Some { StartLine = 2 StartColumn = 0 EndLine = 6 EndColumn = 8 }) to pynb markdown\n",
"\n"]
          }
,
          {
           "cell_type": "code",
           "metadata": {},
            "execution_count": null, "outputs": [], 
           "source": ["#r \"nuget: Plotly.NET, 2.0.0\"\n",
"#r \"nuget: Plotly.NET.Interactive, 2.0.0\"\n"]
          }
,
          {
           "cell_type": "markdown",
           "metadata": {},
           
           "source": ["# Sankey charts\n",
"\n",
"[![Binder](https://plotly.net/img/badge-binder.svg)](https://mybinder.org/v2/gh/plotly/Plotly.NET/gh-pages?filepath=8_2_sankey.ipynb)\u0026emsp;\n",
"[![Script](https://plotly.net/img/badge-script.svg)](https://plotly.net/8_2_sankey.fsx)\u0026emsp;\n",
"[![Notebook](https://plotly.net/img/badge-notebook.svg)](https://plotly.net/8_2_sankey.ipynb)\n",
"\n",
"*Summary:* This example shows how to create sankey charts in F#.\n",
"\n",
"Sankey charts are a visualization of multiple, linked graphs layed out linearly. \n",
"These are usually used to depict flow between nodes or stations.\n",
"To create Sankey, a set of nodes and links between them are required. \n",
"These are created using the provided Node and Link structures.\n",
"\n"]
          }
,
          {
           "cell_type": "code",
           "metadata": {},
            "execution_count": 3, "outputs": [], 
           "source": ["open Plotly.NET \n",
"\n",
"// create nodes\n",
"let n1 = Node.Create(\"a\",color=\"Black\")\n",
"let n2 = Node.Create(\"b\",color=\"Red\")\n",
"let n3 = Node.Create(\"c\",color=\"Purple\")\n",
"let n4 = Node.Create(\"d\",color=\"Green\")\n",
"let n5 = Node.Create(\"e\",color=\"Orange\")\n",
"\n",
"// create links between nodes\n",
"let link1 = Link.Create(n1,n2,value=1.0)\n",
"let link2 = Link.Create(n2,n3,value=2.0)\n",
"let link3 = Link.Create(n1,n5,value=1.3)\n",
"let link4 = Link.Create(n4,n5,value=1.5)\n",
"let link5 = Link.Create(n3,n5,value=0.5)\n",
"\n",
"let sankey1 = \n",
"    Chart.Sankey(\n",
"        [n1;n2;n3;n4;n5],\n",
"        [link1;link2;link3;link4;link5]\n",
"    )\n",
"    |\u003e Chart.withTitle \"Sankey Sample\"\n"]
          }
,
          {
           "cell_type": "code",
           "metadata": {},
            "execution_count": null, "outputs": [
          {
           "data": {
            "text/html": ["\u003cdiv id=\"6caa1060-53e4-4079-8de8-78373e275c7d\" style=\"width: 600px; height: 600px;\"\u003e\u003c!-- Plotly chart will be drawn inside this DIV --\u003e\u003c/div\u003e",
"\u003cscript type=\"text/javascript\"\u003e",
"",
"            var renderPlotly_6caa106053e440798de878373e275c7d = function() {",
"            var fsharpPlotlyRequire = requirejs.config({context:\u0027fsharp-plotly\u0027,paths:{plotly:\u0027https://cdn.plot.ly/plotly-latest.min\u0027}}) || require;",
"            fsharpPlotlyRequire([\u0027plotly\u0027], function(Plotly) {",
"",
"            var data = [{\"type\":\"sankey\",\"node\":{\"label\":[\"a\",\"b\",\"c\",\"d\",\"e\"],\"color\":[\"Black\",\"Red\",\"Purple\",\"Green\",\"Orange\"]},\"link\":{\"source\":[0,1,0,3,2],\"target\":[1,2,4,4,4],\"value\":[1.0,2.0,1.3,1.5,0.5]}}];",
"            var layout = {\"title\":\"Sankey Sample\"};",
"            var config = {};",
"            Plotly.newPlot(\u00276caa1060-53e4-4079-8de8-78373e275c7d\u0027, data, layout, config);",
"});",
"            };",
"            if ((typeof(requirejs) !==  typeof(Function)) || (typeof(requirejs.config) !== typeof(Function))) {",
"                var script = document.createElement(\"script\");",
"                script.setAttribute(\"src\", \"https://cdnjs.cloudflare.com/ajax/libs/require.js/2.3.6/require.min.js\");",
"                script.onload = function(){",
"                    renderPlotly_6caa106053e440798de878373e275c7d();",
"                };",
"                document.getElementsByTagName(\"head\")[0].appendChild(script);",
"            }",
"            else {",
"                renderPlotly_6caa106053e440798de878373e275c7d();",
"            }",
"\u003c/script\u003e",
""]
        },
           "execution_count": null,
           "metadata": {},
           "output_type": "execute_result"
          }], 
           "source": ["sankey1\n"]
          }],
            "metadata": {
            "kernelspec": {"display_name": ".NET (F#)", "language": "F#", "name": ".net-fsharp"},
            "langauge_info": {
        "file_extension": ".fs",
        "mimetype": "text/x-fsharp",
        "name": "C#",
        "pygments_lexer": "fsharp",
        "version": "4.5"
        }
        },
            "nbformat": 4,
            "nbformat_minor": 1
        }
        


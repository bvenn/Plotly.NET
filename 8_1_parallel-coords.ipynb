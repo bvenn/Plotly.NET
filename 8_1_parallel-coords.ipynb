
        {
            "cells": [
          {
           "cell_type": "markdown",
           "metadata": {},
           
           "source": ["// can\u0027t yet format YamlFrontmatter ([\"title: Parallel coordinates\"; \"category: Categorical Charts\"; \"categoryindex: 10\"; \"index: 2\"], Some { StartLine = 2 StartColumn = 0 EndLine = 6 EndColumn = 8 }) to pynb markdown\n",
"\n"]
          }
,
          {
           "cell_type": "code",
           "metadata": {},
            "execution_count": null, "outputs": [], 
           "source": ["#r \"nuget: Plotly.NET, 2.0.0\"\n",
"#r \"nuget: Plotly.NET.Interactive, 2.0.0\"\n"]
          }
,
          {
           "cell_type": "markdown",
           "metadata": {},
           
           "source": ["# Parallel coordinates\n",
"\n",
"[![Binder](https://plotly.net/img/badge-binder.svg)](https://mybinder.org/v2/gh/plotly/Plotly.NET/gh-pages?filepath=8_1_parallel-coords.ipynb)\u0026emsp;\n",
"[![Script](https://plotly.net/img/badge-script.svg)](https://plotly.net/8_1_parallel-coords.fsx)\u0026emsp;\n",
"[![Notebook](https://plotly.net/img/badge-notebook.svg)](https://plotly.net/8_1_parallel-coords.ipynb)\n",
"\n",
"*Summary:* This example shows how to create parallel coordinates plot in F#.\n",
"\n",
"let\u0027s first create some data for the purpose of creating example charts:\n",
"\n",
"\n"]
          }
,
          {
           "cell_type": "code",
           "metadata": {},
            "execution_count": 3, "outputs": [], 
           "source": ["open Plotly.NET \n",
"\n",
"let data = \n",
"    [\n",
"        \"A\",[1.;4.;3.4;0.7;]\n",
"        \"B\",[3.;1.5;1.7;2.3;]\n",
"        \"C\",[2.;4.;3.1;5.]\n",
"        \"D\",[4.;2.;2.;4.;]\n",
"    ]\n"]
          }
,
          {
           "cell_type": "markdown",
           "metadata": {},
           
           "source": ["Parallel coordinates are a common way of visualizing high-dimensional geometry and analyzing multivariate data.\n",
"To show a set of points in an n-dimensional space, a backdrop is drawn consisting of n parallel lines, typically \n",
"vertical and equally spaced. A point in n-dimensional space is represented as a polyline with vertices on the parallel axes; \n",
"the position of the vertex on the i-th axis corresponds to the i-th coordinate of the point.\n",
"\n"]
          }
,
          {
           "cell_type": "code",
           "metadata": {},
            "execution_count": 4, "outputs": [], 
           "source": ["let parcoords1 =\n",
"    Chart.ParallelCoord(data,Color=\"blue\")\n"]
          }
,
          {
           "cell_type": "code",
           "metadata": {},
            "execution_count": null, "outputs": [
          {
           "data": {
            "text/html": ["\u003cdiv id=\"afec5898-7359-4a6d-a065-c444c028883b\" style=\"width: 600px; height: 600px;\"\u003e\u003c!-- Plotly chart will be drawn inside this DIV --\u003e\u003c/div\u003e",
"\u003cscript type=\"text/javascript\"\u003e",
"",
"            var renderPlotly_afec589873594a6da065c444c028883b = function() {",
"            var fsharpPlotlyRequire = requirejs.config({context:\u0027fsharp-plotly\u0027,paths:{plotly:\u0027https://cdn.plot.ly/plotly-latest.min\u0027}}) || require;",
"            fsharpPlotlyRequire([\u0027plotly\u0027], function(Plotly) {",
"",
"            var data = [{\"type\":\"parcoords\",\"dimensions\":[{\"values\":[1.0,4.0,3.4,0.7],\"label\":\"A\"},{\"values\":[3.0,1.5,1.7,2.3],\"label\":\"B\"},{\"values\":[2.0,4.0,3.1,5.0],\"label\":\"C\"},{\"values\":[4.0,2.0,2.0,4.0],\"label\":\"D\"}],\"line\":{\"color\":\"blue\"}}];",
"            var layout = {};",
"            var config = {};",
"            Plotly.newPlot(\u0027afec5898-7359-4a6d-a065-c444c028883b\u0027, data, layout, config);",
"});",
"            };",
"            if ((typeof(requirejs) !==  typeof(Function)) || (typeof(requirejs.config) !== typeof(Function))) {",
"                var script = document.createElement(\"script\");",
"                script.setAttribute(\"src\", \"https://cdnjs.cloudflare.com/ajax/libs/require.js/2.3.6/require.min.js\");",
"                script.onload = function(){",
"                    renderPlotly_afec589873594a6da065c444c028883b();",
"                };",
"                document.getElementsByTagName(\"head\")[0].appendChild(script);",
"            }",
"            else {",
"                renderPlotly_afec589873594a6da065c444c028883b();",
"            }",
"\u003c/script\u003e",
""]
        },
           "execution_count": null,
           "metadata": {},
           "output_type": "execute_result"
          }], 
           "source": ["parcoords1\n"]
          }
,
          {
           "cell_type": "code",
           "metadata": {},
            "execution_count": 6, "outputs": [], 
           "source": ["// Dynamic object version\n",
"let parcoords = \n",
"    let v = [|\n",
"        Dimensions.init([|1.;4.;|],  \n",
"            StyleParam.Range.MinMax (1.,5.),StyleParam.Range.MinMax (1.,2.),Label=\"A\");\n",
"        Dimensions.init([|3.;1.5;|], \n",
"            StyleParam.Range.MinMax (1.,5.),Label=\"B\",Tickvals=[|1.5;3.;4.;5.;|]);\n",
"        Dimensions.init([|2.;4.;|],  \n",
"            StyleParam.Range.MinMax (1.,5.),Label=\"C\",Tickvals=[|1.;2.;4.;5.;|],\n",
"                TickText=[|\"txt 1\";\"txt 2\";\"txt 4\";\"txt 5\";|]);\n",
"        Dimensions.init([|4.;2.;|],  \n",
"            StyleParam.Range.MinMax (1.,5.),Label=\"D\");\n",
"    |]\n",
"\n",
"    let dyn = Trace(\"parcoords\")\n",
"\n",
"    dyn?dimensions \u003c- v\n",
"    dyn?line \u003c- Line.init(Color = \"blue\")\n",
"\n",
"    dyn\n",
"    |\u003e GenericChart.ofTraceObject\n"]
          }
,
          {
           "cell_type": "code",
           "metadata": {},
            "execution_count": null, "outputs": [
          {
           "data": {
            "text/html": ["\u003cdiv id=\"0a07ea13-78a4-4711-925d-fdc5d533946c\" style=\"width: 600px; height: 600px;\"\u003e\u003c!-- Plotly chart will be drawn inside this DIV --\u003e\u003c/div\u003e",
"\u003cscript type=\"text/javascript\"\u003e",
"",
"            var renderPlotly_0a07ea1378a44711925dfdc5d533946c = function() {",
"            var fsharpPlotlyRequire = requirejs.config({context:\u0027fsharp-plotly\u0027,paths:{plotly:\u0027https://cdn.plot.ly/plotly-latest.min\u0027}}) || require;",
"            fsharpPlotlyRequire([\u0027plotly\u0027], function(Plotly) {",
"",
"            var data = [{\"type\":\"parcoords\",\"dimensions\":[{\"values\":[1.0,4.0],\"range\":[1.0,5.0],\"constraintrange\":[1.0,2.0],\"label\":\"A\"},{\"values\":[3.0,1.5],\"range\":[1.0,5.0],\"label\":\"B\",\"tickvals\":[1.5,3.0,4.0,5.0]},{\"values\":[2.0,4.0],\"range\":[1.0,5.0],\"label\":\"C\",\"tickvals\":[1.0,2.0,4.0,5.0],\"ticktext\":[\"txt 1\",\"txt 2\",\"txt 4\",\"txt 5\"]},{\"values\":[4.0,2.0],\"range\":[1.0,5.0],\"label\":\"D\"}],\"line\":{\"color\":\"blue\"}}];",
"            var layout = {};",
"            var config = {};",
"            Plotly.newPlot(\u00270a07ea13-78a4-4711-925d-fdc5d533946c\u0027, data, layout, config);",
"});",
"            };",
"            if ((typeof(requirejs) !==  typeof(Function)) || (typeof(requirejs.config) !== typeof(Function))) {",
"                var script = document.createElement(\"script\");",
"                script.setAttribute(\"src\", \"https://cdnjs.cloudflare.com/ajax/libs/require.js/2.3.6/require.min.js\");",
"                script.onload = function(){",
"                    renderPlotly_0a07ea1378a44711925dfdc5d533946c();",
"                };",
"                document.getElementsByTagName(\"head\")[0].appendChild(script);",
"            }",
"            else {",
"                renderPlotly_0a07ea1378a44711925dfdc5d533946c();",
"            }",
"\u003c/script\u003e",
""]
        },
           "execution_count": null,
           "metadata": {},
           "output_type": "execute_result"
          }], 
           "source": ["parcoords\n"]
          }],
            "metadata": {
            "kernelspec": {"display_name": ".NET (F#)", "language": "F#", "name": ".net-fsharp"},
            "langauge_info": {
        "file_extension": ".fs",
        "mimetype": "text/x-fsharp",
        "name": "C#",
        "pygments_lexer": "fsharp",
        "version": "4.5"
        }
        },
            "nbformat": 4,
            "nbformat_minor": 1
        }
        


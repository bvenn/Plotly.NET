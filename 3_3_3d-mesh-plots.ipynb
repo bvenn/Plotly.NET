
        {
            "cells": [
          {
           "cell_type": "markdown",
           "metadata": {},
           
           "source": ["// can\u0027t yet format YamlFrontmatter ([\"title: 3D Mesh plots\"; \"category: 3D Charts\"; \"categoryindex: 4\"; \"index: 4\"], Some { StartLine = 2 StartColumn = 0 EndLine = 6 EndColumn = 8 }) to pynb markdown\n",
"\n"]
          }
,
          {
           "cell_type": "code",
           "metadata": {},
            "execution_count": null, "outputs": [], 
           "source": ["#r \"nuget: Plotly.NET, 2.0.0\"\n",
"#r \"nuget: Plotly.NET.Interactive, 2.0.0\"\n"]
          }
,
          {
           "cell_type": "markdown",
           "metadata": {},
           
           "source": ["# 3D Mesh plots\n",
"\n",
"[![Binder](https://plotly.net/img/badge-binder.svg)](https://mybinder.org/v2/gh/plotly/Plotly.NET/gh-pages?filepath=3_3_3d-mesh-plots.ipynb)\u0026emsp;\n",
"[![Script](https://plotly.net/img/badge-script.svg)](https://plotly.net/3_3_3d-mesh-plots.fsx)\u0026emsp;\n",
"[![Notebook](https://plotly.net/img/badge-notebook.svg)](https://plotly.net/3_3_3d-mesh-plots.ipynb)\n",
"\n",
"*Summary:* This example shows how to create 3D-Mesh charts in F#.\n",
"\n",
"let\u0027s first create some data for the purpose of creating example charts:\n",
"\n"]
          }
,
          {
           "cell_type": "code",
           "metadata": {},
            "execution_count": 3, "outputs": [], 
           "source": ["open System\n",
"open Plotly.NET \n",
"\n",
"\n",
"//---------------------- Generate linearly spaced vector ----------------------\n",
"let linspace (min,max,n) = \n",
"    if n \u003c= 2 then failwithf \"n needs to be larger then 2\"\n",
"    let bw = float (max - min) / (float n - 1.)\n",
"    Array.init n (fun i -\u003e min + (bw * float i))\n",
"    //[|min ..bw ..max|]\n",
"\n",
"//---------------------- Create example data ----------------------\n",
"let size = 100\n",
"let x = linspace(-2. * Math.PI, 2. * Math.PI, size)\n",
"let y = linspace(-2. * Math.PI, 2. * Math.PI, size)\n",
"\n",
"let f x y = - (5. * x / (x**2. + y**2. + 1.) )\n",
"\n",
"let z = \n",
"    Array.init size (fun i -\u003e \n",
"        Array.init size (fun j -\u003e \n",
"            f x.[j] y.[i] \n",
"        )\n",
"    )\n",
"\n",
"let rnd = System.Random()\n",
"let a = Array.init 50 (fun _ -\u003e rnd.NextDouble())\n",
"let b = Array.init 50 (fun _ -\u003e rnd.NextDouble())\n",
"let c = Array.init 50 (fun _ -\u003e rnd.NextDouble())\n",
"\n",
"\n",
"let mesh3d =\n",
"    Trace3d.initMesh3d \n",
"        (fun mesh3d -\u003e\n",
"            mesh3d?x \u003c- a\n",
"            mesh3d?y \u003c- b\n",
"            mesh3d?z \u003c- c\n",
"            mesh3d?flatshading \u003c- true\n",
"            mesh3d?contour \u003c- Contours.initXyz(Show=true)\n",
"            mesh3d\n",
"            )\n",
"    |\u003e GenericChart.ofTraceObject \n",
"    \n"]
          }
,
          {
           "cell_type": "code",
           "metadata": {},
            "execution_count": null, "outputs": [
          {
           "data": {
            "text/html": ["\u003cdiv id=\"4c49ebd8-8328-48ce-bafa-1e209bf2fa91\" style=\"width: 600px; height: 600px;\"\u003e\u003c!-- Plotly chart will be drawn inside this DIV --\u003e\u003c/div\u003e",
"\u003cscript type=\"text/javascript\"\u003e",
"",
"            var renderPlotly_4c49ebd8832848cebafa1e209bf2fa91 = function() {",
"            var fsharpPlotlyRequire = requirejs.config({context:\u0027fsharp-plotly\u0027,paths:{plotly:\u0027https://cdn.plot.ly/plotly-latest.min\u0027}}) || require;",
"            fsharpPlotlyRequire([\u0027plotly\u0027], function(Plotly) {",
"",
"            var data = [{\"type\":\"mesh3d\",\"x\":[0.5481105691511698,0.0004198281096386854,0.942383411779247,0.671244208547866,0.6296385566841991,0.9895549840245186,0.6449722697236446,0.8370083225132005,0.5726943102538093,0.9744021529212604,0.4235920679865368,0.776122079592255,0.9728275113612541,0.9847203926112132,0.5787824502115988,0.5122324407623301,0.23110588417905656,0.8618177067776293,0.8200963259768189,0.31196593973411524,0.38978050015390875,0.6076640061138496,0.011375906882516997,0.35393092145860705,0.8085233056026154,0.7338818166097075,0.9467243989681473,0.6503235267709585,0.10453902189831205,0.8609706651703318,0.2687000284291338,0.5719588080290513,0.2693540720592039,0.43698624681541054,0.6262870042707245,0.9918672693855443,0.02543839673764929,0.16334183288893747,0.32046041652581675,0.24876829807123554,0.9263242496765798,0.15007465246602644,0.13295236003256977,0.609658379391608,0.7991629893887616,0.9932760074703377,0.9282841714696419,0.262900822452689,0.3819784738039498,0.7326930029004314],\"y\":[0.1444521034809072,0.013587131171295015,0.6590243199183718,0.8951569138537891,0.08709481967943479,0.9404465630373203,0.9890439212271217,0.58845249032064,0.8627209029452507,0.8957567400744915,0.04283058505637133,0.9946487429526861,0.7324693006148885,0.7117236450834775,0.7057021244921265,0.8516332599574855,0.5067680075330511,0.5358412645458436,0.3584333883404887,0.5869151808260545,0.48679404402468074,0.06776405129011909,0.5413572902518126,0.5713280279055833,0.3856416900575355,0.2397058476878823,0.4747116460812798,0.401717527490909,0.5547679320698454,0.8152472981322777,0.8055976451400656,0.6838235765154583,0.26834505296700867,0.3718460189978806,0.7165185616894246,0.2551128972578388,0.9129344881106795,0.3741971582054147,0.34989142713597576,0.6858404412334042,0.002823348158422554,0.43698590641700935,0.3006209299436868,0.4247036764513253,0.20593771301486422,0.9316755067238935,0.417605351851138,0.42122871494909225,0.9039562548994814,0.9475297294312761],\"z\":[0.4865079999372866,0.39244290692379835,0.9044674341122002,0.7950632929778952,0.24589895887575064,0.07668805219078811,0.47222984091948245,0.08769629201278849,0.5095152237962537,0.8473889719915525,0.4657349169560405,0.5873263937362126,0.033684558250794444,0.047473604812973,0.09015909493442582,0.359007008540913,0.7263036899856774,0.3606232816170078,0.995205083394053,0.45058922723428774,0.9386987718468061,0.13257084932763635,0.18594983740986784,0.6725929471070845,0.584091832667632,0.04980813760767139,0.7671431213464323,0.1166536138004873,0.36539031489071916,0.4539661833336419,0.8221004958367443,0.05348293113218757,0.49776127259142755,0.6072382026385694,0.3287392981949911,0.4131547382162673,0.7793561424032581,0.4732817599891134,0.12594706012213,0.6398305094986365,0.7828830563383564,0.825238196097891,0.8646819344091611,0.5025024551444233,0.22010552427736368,0.41549695442220985,0.40330134816621493,0.2531473251307138,0.3345445815168994,0.8469307044739512],\"flatshading\":true,\"contour\":{\"x\":{\"show\":true},\"y\":{\"show\":true},\"z\":{\"show\":true}}}];",
"            var layout = {};",
"            var config = {};",
"            Plotly.newPlot(\u00274c49ebd8-8328-48ce-bafa-1e209bf2fa91\u0027, data, layout, config);",
"});",
"            };",
"            if ((typeof(requirejs) !==  typeof(Function)) || (typeof(requirejs.config) !== typeof(Function))) {",
"                var script = document.createElement(\"script\");",
"                script.setAttribute(\"src\", \"https://cdnjs.cloudflare.com/ajax/libs/require.js/2.3.6/require.min.js\");",
"                script.onload = function(){",
"                    renderPlotly_4c49ebd8832848cebafa1e209bf2fa91();",
"                };",
"                document.getElementsByTagName(\"head\")[0].appendChild(script);",
"            }",
"            else {",
"                renderPlotly_4c49ebd8832848cebafa1e209bf2fa91();",
"            }",
"\u003c/script\u003e",
""]
        },
           "execution_count": null,
           "metadata": {},
           "output_type": "execute_result"
          }], 
           "source": ["mesh3d\n"]
          }],
            "metadata": {
            "kernelspec": {"display_name": ".NET (F#)", "language": "F#", "name": ".net-fsharp"},
            "langauge_info": {
        "file_extension": ".fs",
        "mimetype": "text/x-fsharp",
        "name": "C#",
        "pygments_lexer": "fsharp",
        "version": "4.5"
        }
        },
            "nbformat": 4,
            "nbformat_minor": 1
        }
        


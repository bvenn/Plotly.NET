
        {
            "cells": [
          {
           "cell_type": "markdown",
           "metadata": {},
           
           "source": ["// can\u0027t yet format YamlFrontmatter ([\"title: 3D Mesh plots\"; \"category: 3D Charts\"; \"categoryindex: 4\"; \"index: 4\"], Some { StartLine = 2 StartColumn = 0 EndLine = 6 EndColumn = 8 }) to pynb markdown\n",
"\n"]
          }
,
          {
           "cell_type": "code",
           "metadata": {},
            "execution_count": null, "outputs": [], 
           "source": ["#r \"nuget: Plotly.NET, 2.0.0\"\n",
"#r \"nuget: Plotly.NET.Interactive, 2.0.0\"\n"]
          }
,
          {
           "cell_type": "markdown",
           "metadata": {},
           
           "source": ["# 3D Mesh plots\n",
"\n",
"[![Binder](https://plotly.net/img/badge-binder.svg)](https://mybinder.org/v2/gh/plotly/Plotly.NET/gh-pages?filepath=3_3_3d-mesh-plots.ipynb)\u0026emsp;\n",
"[![Script](https://plotly.net/img/badge-script.svg)](https://plotly.net/3_3_3d-mesh-plots.fsx)\u0026emsp;\n",
"[![Notebook](https://plotly.net/img/badge-notebook.svg)](https://plotly.net/3_3_3d-mesh-plots.ipynb)\n",
"\n",
"*Summary:* This example shows how to create 3D-Mesh charts in F#.\n",
"\n",
"let\u0027s first create some data for the purpose of creating example charts:\n",
"\n"]
          }
,
          {
           "cell_type": "code",
           "metadata": {},
            "execution_count": 3, "outputs": [], 
           "source": ["open System\n",
"open Plotly.NET \n",
"\n",
"\n",
"//---------------------- Generate linearly spaced vector ----------------------\n",
"let linspace (min,max,n) = \n",
"    if n \u003c= 2 then failwithf \"n needs to be larger then 2\"\n",
"    let bw = float (max - min) / (float n - 1.)\n",
"    Array.init n (fun i -\u003e min + (bw * float i))\n",
"    //[|min ..bw ..max|]\n",
"\n",
"//---------------------- Create example data ----------------------\n",
"let size = 100\n",
"let x = linspace(-2. * Math.PI, 2. * Math.PI, size)\n",
"let y = linspace(-2. * Math.PI, 2. * Math.PI, size)\n",
"\n",
"let f x y = - (5. * x / (x**2. + y**2. + 1.) )\n",
"\n",
"let z = \n",
"    Array.init size (fun i -\u003e \n",
"        Array.init size (fun j -\u003e \n",
"            f x.[j] y.[i] \n",
"        )\n",
"    )\n",
"\n",
"let rnd = System.Random()\n",
"let a = Array.init 50 (fun _ -\u003e rnd.NextDouble())\n",
"let b = Array.init 50 (fun _ -\u003e rnd.NextDouble())\n",
"let c = Array.init 50 (fun _ -\u003e rnd.NextDouble())\n",
"\n",
"\n",
"let mesh3d =\n",
"    Trace3d.initMesh3d \n",
"        (fun mesh3d -\u003e\n",
"            mesh3d?x \u003c- a\n",
"            mesh3d?y \u003c- b\n",
"            mesh3d?z \u003c- c\n",
"            mesh3d?flatshading \u003c- true\n",
"            mesh3d?contour \u003c- Contours.initXyz(Show=true)\n",
"            mesh3d\n",
"            )\n",
"    |\u003e GenericChart.ofTraceObject \n",
"    \n"]
          }
,
          {
           "cell_type": "code",
           "metadata": {},
            "execution_count": null, "outputs": [
          {
           "data": {
            "text/html": ["\u003cdiv id=\"07c35c36-bf90-41d3-9dd6-5b0ac69ffecb\" style=\"width: 600px; height: 600px;\"\u003e\u003c!-- Plotly chart will be drawn inside this DIV --\u003e\u003c/div\u003e",
"\u003cscript type=\"text/javascript\"\u003e",
"",
"            var renderPlotly_07c35c36bf9041d39dd65b0ac69ffecb = function() {",
"            var fsharpPlotlyRequire = requirejs.config({context:\u0027fsharp-plotly\u0027,paths:{plotly:\u0027https://cdn.plot.ly/plotly-latest.min\u0027}}) || require;",
"            fsharpPlotlyRequire([\u0027plotly\u0027], function(Plotly) {",
"",
"            var data = [{\"type\":\"mesh3d\",\"x\":[0.27594586986859604,0.05844252512717737,0.005471286832108762,0.23083297639658348,0.6815368932120208,0.9328364110239019,0.07147565347676894,0.9783045453849736,0.40281453421470453,0.08666071625736575,0.659297030260459,0.21141192233721348,0.4841119761039093,0.37567942141354055,0.294439062613267,0.1978229727585907,0.6096229677133369,0.43039893844649146,0.6710036241780052,0.575909026700961,0.1490400061705336,0.7360823721327271,0.02469501133295475,0.256441091306713,0.0039459853451447495,0.9171401303806995,0.9458908186973496,0.8189566996036827,0.5196727637758818,0.3738658662763731,0.5409300478831539,0.8055133297133787,0.1797975423651736,0.14656397846833058,0.937669813138279,0.1447520238090083,0.7854698099128296,0.9462683591741455,0.9238605778309799,0.8793232412446864,0.4285850973932934,0.41984037608832137,0.4088097887154714,0.2052592976043277,0.5773267492546359,0.7977387755167386,0.5159962547551823,0.9101690016268608,0.06140351158632129,0.3394044369176982],\"y\":[0.17022031832962312,0.671188798579941,0.2570451899697283,0.46347946043288313,0.058932243408138046,0.539863497735869,0.03374751379422262,0.7490301955253957,0.22688699105143872,0.7643967628313213,0.9869455923265524,0.25251895387308626,0.4586317816090918,0.02894866793833145,0.5457306683742118,0.8537837005470803,0.0316143799720399,0.33754799763557874,0.43800960827526153,0.1496870388042587,0.4123531628457611,0.6633546085391914,0.5065383606155116,0.7916803829333188,0.1473239293076675,0.7291996300822122,0.3272725834172557,0.819435713728627,0.6791143420520771,0.2062072098284062,0.4011438756255172,0.035721817070488736,0.7575531880173614,0.18026832685818353,0.20364554794674997,0.869741249303213,0.5484681397436504,0.7163180819322905,0.08763173506019252,0.3978063154024101,0.11100451001478569,0.036439614387433795,0.7193813681227068,0.15946381499965853,0.892377648918134,0.17606614352020722,0.9612085944792296,0.37986112077713996,0.6595286292301159,0.7235430487075556],\"z\":[0.7661243955446987,0.17844825711960358,0.4721593933515993,0.9117164727820626,0.9270512740719371,0.5068657097904318,0.16465043796442935,0.46536480703640953,0.3161555311252156,0.32973261332592585,0.2125909143186132,0.21431180006559555,0.06991585347331868,0.02067978122303252,0.3632528872058042,0.9512237752560637,0.4949657658557248,0.2783634547509083,0.8253031199915815,0.6759894190709989,0.30531556080343,0.3152962980397494,0.2499162625753862,0.04020329287285138,0.038682528789473015,0.3759135484583273,0.9439732404164846,0.34707454561585305,0.8993027340151848,0.9712577857874602,0.7679910356029827,0.9474114626401158,0.1599070844985112,0.9555712933445215,0.44008281428370755,0.22269561850591357,0.5635624237188894,0.8458367152352988,0.25321705278624645,0.6967798381563182,0.7050908113387836,0.08310333270724087,0.4001625508070749,0.7578991217342667,0.18521540108379694,0.8966927099491901,0.9665237609141151,0.6987015868996743,0.7962109277938544,0.9411538736620703],\"flatshading\":true,\"contour\":{\"x\":{\"show\":true},\"y\":{\"show\":true},\"z\":{\"show\":true}}}];",
"            var layout = {};",
"            var config = {};",
"            Plotly.newPlot(\u002707c35c36-bf90-41d3-9dd6-5b0ac69ffecb\u0027, data, layout, config);",
"});",
"            };",
"            if ((typeof(requirejs) !==  typeof(Function)) || (typeof(requirejs.config) !== typeof(Function))) {",
"                var script = document.createElement(\"script\");",
"                script.setAttribute(\"src\", \"https://cdnjs.cloudflare.com/ajax/libs/require.js/2.3.6/require.min.js\");",
"                script.onload = function(){",
"                    renderPlotly_07c35c36bf9041d39dd65b0ac69ffecb();",
"                };",
"                document.getElementsByTagName(\"head\")[0].appendChild(script);",
"            }",
"            else {",
"                renderPlotly_07c35c36bf9041d39dd65b0ac69ffecb();",
"            }",
"\u003c/script\u003e",
""]
        },
           "execution_count": null,
           "metadata": {},
           "output_type": "execute_result"
          }], 
           "source": ["mesh3d\n"]
          }],
            "metadata": {
            "kernelspec": {"display_name": ".NET (F#)", "language": "F#", "name": ".net-fsharp"},
            "langauge_info": {
        "file_extension": ".fs",
        "mimetype": "text/x-fsharp",
        "name": "C#",
        "pygments_lexer": "fsharp",
        "version": "4.5"
        }
        },
            "nbformat": 4,
            "nbformat_minor": 1
        }
        


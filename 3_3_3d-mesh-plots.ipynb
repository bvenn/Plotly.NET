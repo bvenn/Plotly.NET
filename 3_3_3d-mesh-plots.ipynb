
        {
            "cells": [
          {
           "cell_type": "markdown",
           "metadata": {},
           
           "source": ["// can\u0027t yet format YamlFrontmatter ([\"title: 3D Mesh plots\"; \"category: 3D Charts\"; \"categoryindex: 4\"; \"index: 4\"], Some { StartLine = 2 StartColumn = 0 EndLine = 6 EndColumn = 8 }) to pynb markdown\n",
"\n"]
          }
,
          {
           "cell_type": "code",
           "metadata": {},
            "execution_count": null, "outputs": [], 
           "source": ["#r \"nuget: Plotly.NET, 2.0.0\"\n",
"#r \"nuget: Plotly.NET.Interactive, 2.0.0\"\n"]
          }
,
          {
           "cell_type": "markdown",
           "metadata": {},
           
           "source": ["# 3D Mesh plots\n",
"\n",
"[![Binder](https://plotly.net/img/badge-binder.svg)](https://mybinder.org/v2/gh/plotly/Plotly.NET/gh-pages?filepath=3_3_3d-mesh-plots.ipynb)\u0026emsp;\n",
"[![Script](https://plotly.net/img/badge-script.svg)](https://plotly.net/3_3_3d-mesh-plots.fsx)\u0026emsp;\n",
"[![Notebook](https://plotly.net/img/badge-notebook.svg)](https://plotly.net/3_3_3d-mesh-plots.ipynb)\n",
"\n",
"*Summary:* This example shows how to create 3D-Mesh charts in F#.\n",
"\n",
"let\u0027s first create some data for the purpose of creating example charts:\n",
"\n"]
          }
,
          {
           "cell_type": "code",
           "metadata": {},
            "execution_count": 3, "outputs": [], 
           "source": ["open System\n",
"open Plotly.NET \n",
"\n",
"\n",
"//---------------------- Generate linearly spaced vector ----------------------\n",
"let linspace (min,max,n) = \n",
"    if n \u003c= 2 then failwithf \"n needs to be larger then 2\"\n",
"    let bw = float (max - min) / (float n - 1.)\n",
"    Array.init n (fun i -\u003e min + (bw * float i))\n",
"    //[|min ..bw ..max|]\n",
"\n",
"//---------------------- Create example data ----------------------\n",
"let size = 100\n",
"let x = linspace(-2. * Math.PI, 2. * Math.PI, size)\n",
"let y = linspace(-2. * Math.PI, 2. * Math.PI, size)\n",
"\n",
"let f x y = - (5. * x / (x**2. + y**2. + 1.) )\n",
"\n",
"let z = \n",
"    Array.init size (fun i -\u003e \n",
"        Array.init size (fun j -\u003e \n",
"            f x.[j] y.[i] \n",
"        )\n",
"    )\n",
"\n",
"let rnd = System.Random()\n",
"let a = Array.init 50 (fun _ -\u003e rnd.NextDouble())\n",
"let b = Array.init 50 (fun _ -\u003e rnd.NextDouble())\n",
"let c = Array.init 50 (fun _ -\u003e rnd.NextDouble())\n",
"\n",
"\n",
"let mesh3d =\n",
"    Trace3d.initMesh3d \n",
"        (fun mesh3d -\u003e\n",
"            mesh3d?x \u003c- a\n",
"            mesh3d?y \u003c- b\n",
"            mesh3d?z \u003c- c\n",
"            mesh3d?flatshading \u003c- true\n",
"            mesh3d?contour \u003c- Contours.initXyz(Show=true)\n",
"            mesh3d\n",
"            )\n",
"    |\u003e GenericChart.ofTraceObject \n",
"    \n"]
          }
,
          {
           "cell_type": "code",
           "metadata": {},
            "execution_count": null, "outputs": [
          {
           "data": {
            "text/html": ["\u003cdiv id=\"6b7f02c0-dbaf-450c-a63c-036bbbbf0684\" style=\"width: 600px; height: 600px;\"\u003e\u003c!-- Plotly chart will be drawn inside this DIV --\u003e\u003c/div\u003e",
"\u003cscript type=\"text/javascript\"\u003e",
"",
"            var renderPlotly_6b7f02c0dbaf450ca63c036bbbbf0684 = function() {",
"            var fsharpPlotlyRequire = requirejs.config({context:\u0027fsharp-plotly\u0027,paths:{plotly:\u0027https://cdn.plot.ly/plotly-latest.min\u0027}}) || require;",
"            fsharpPlotlyRequire([\u0027plotly\u0027], function(Plotly) {",
"",
"            var data = [{\"type\":\"mesh3d\",\"x\":[0.6175030859268751,0.6254096085323997,0.8799821729212917,0.6229519688631184,0.5365074512253084,0.41014634883503726,0.39495809906858864,0.07660341778611923,0.8911135741002455,0.40723453993314623,0.6258910897308454,0.18078593685328306,0.327983337607227,0.06350581350899573,0.9273791219700962,0.9768355237212197,0.8223366582870189,0.6981432161750939,0.7191242327537035,0.530872109127637,0.8452912456566892,0.9439132008440388,0.695966589122995,0.35441643342115753,0.7562484726106042,0.4533771343777781,0.35068773541165876,0.9152275826387236,0.48422017855766236,0.49078076448793556,0.658331554689599,0.5499999088002369,0.6624348841898305,0.6961138228402072,0.5194335288924321,0.7403227192071838,0.32544009123250844,0.8016617748894085,0.8645465224350554,0.7494864700126864,0.3871979556918135,0.4622769930689954,0.32729757871818616,0.5692837455166894,0.40432690615035916,0.4481667524427952,0.048378244996246995,0.8452129088552729,0.6851038847514912,0.7360082155726888],\"y\":[0.947384342061069,0.8354422151276107,0.07166622582434967,0.8447795071847641,0.7121456417777322,0.6735898850828362,0.9294430194094047,0.5255657395001341,0.8667034962525142,0.08313031684753035,0.05945861342337849,0.47973051642986503,0.5923832392284568,0.40033280961230994,0.7489029852435473,0.0758911809306085,0.5183510526634525,0.6318695147670198,0.5440722846165637,0.1870564027629124,0.6513954324887112,0.02067488339761034,0.8335966937400385,0.9696377627410171,0.14367415343582357,0.38301425258769384,0.6166156221258526,0.1266828436063057,0.9500895272707983,0.30808172016780905,0.4049988893815311,0.5054748265563859,0.2301236978872324,0.7482119629849735,0.5433964224268666,0.8228893395619883,0.4783336829758872,0.8176553770050664,0.983968181062475,0.8458436438095959,0.8108796997977792,0.7998743517323743,0.9349582786368943,0.781416205587525,0.690027856589308,0.9074674392619484,0.8698937538405386,0.9269647691058762,0.8203807602731421,0.3284357252197507],\"z\":[0.9298156997793428,0.4165087302292272,0.3011406242387093,0.4980474819885788,0.08461278308397754,0.9267094586634587,0.0018455213875721774,0.10202846308333262,0.7011053537489406,0.32913138919003837,0.05697426295698353,0.8027601758030989,0.5754762122293358,0.5586217760847052,0.6781314274659992,0.5539837868669926,0.24960681854263267,0.8441712762434833,0.8569363871854434,0.926013645681559,0.5975574979547214,0.7006956756583861,0.6479013337045448,0.6982286408069677,0.3761767029651332,0.8515210807563369,0.08571660476071602,0.052180488152513506,0.2796099061517091,0.23620671417387515,0.5131204987471553,0.6896508530199764,0.30630208333316356,0.6216538020510477,0.3782660203884663,0.9884901591523039,0.2043342023176766,0.7320762158986536,0.663599179900996,0.6166869637634079,0.8210438181744161,0.37630521989255455,0.11655002325612587,0.6548367918724366,0.7888693808526124,0.008119523994680272,0.22439813950303855,0.37633650255218914,0.10328477812152578,0.13604406972231534],\"flatshading\":true,\"contour\":{\"x\":{\"show\":true},\"y\":{\"show\":true},\"z\":{\"show\":true}}}];",
"            var layout = {};",
"            var config = {};",
"            Plotly.newPlot(\u00276b7f02c0-dbaf-450c-a63c-036bbbbf0684\u0027, data, layout, config);",
"});",
"            };",
"            if ((typeof(requirejs) !==  typeof(Function)) || (typeof(requirejs.config) !== typeof(Function))) {",
"                var script = document.createElement(\"script\");",
"                script.setAttribute(\"src\", \"https://cdnjs.cloudflare.com/ajax/libs/require.js/2.3.6/require.min.js\");",
"                script.onload = function(){",
"                    renderPlotly_6b7f02c0dbaf450ca63c036bbbbf0684();",
"                };",
"                document.getElementsByTagName(\"head\")[0].appendChild(script);",
"            }",
"            else {",
"                renderPlotly_6b7f02c0dbaf450ca63c036bbbbf0684();",
"            }",
"\u003c/script\u003e",
""]
        },
           "execution_count": null,
           "metadata": {},
           "output_type": "execute_result"
          }], 
           "source": ["mesh3d\n"]
          }],
            "metadata": {
            "kernelspec": {"display_name": ".NET (F#)", "language": "F#", "name": ".net-fsharp"},
            "langauge_info": {
        "file_extension": ".fs",
        "mimetype": "text/x-fsharp",
        "name": "C#",
        "pygments_lexer": "fsharp",
        "version": "4.5"
        }
        },
            "nbformat": 4,
            "nbformat_minor": 1
        }
        


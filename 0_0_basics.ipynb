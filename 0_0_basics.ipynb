
        {
            "cells": [
          {
           "cell_type": "markdown",
           "metadata": {},
           
           "source": ["// can\u0027t yet format YamlFrontmatter ([\"title: Basics \"; \"category: General\"; \"categoryindex: 1\"; \"index: 1\"], Some { StartLine = 2 StartColumn = 0 EndLine = 6 EndColumn = 8 }) to pynb markdown\n",
"\n"]
          }
,
          {
           "cell_type": "code",
           "metadata": {},
            "execution_count": null, "outputs": [], 
           "source": ["#r \"nuget: Plotly.NET, 2.0.0\"\n",
"#r \"nuget: Plotly.NET.Interactive, 2.0.0\"\n",
"\n",
"open Plotly.NET\n"]
          }
,
          {
           "cell_type": "markdown",
           "metadata": {},
           
           "source": ["[![Binder](https://plotly.net/img/badge-binder.svg)](https://mybinder.org/v2/gh/plotly/Plotly.NET/gh-pages?filepath=0_0_basics.ipynb)\u0026emsp;\n",
"[![Script](https://plotly.net/img/badge-script.svg)](https://plotly.net/0_0_basics.fsx)\u0026emsp;\n",
"[![Notebook](https://plotly.net/img/badge-notebook.svg)](https://plotly.net/0_0_basics.ipynb)\n",
"\n",
"# Plotly.NET basics\n",
"\n",
"_This section is WIP._\n",
"\n",
"### Table of contents\n",
"\n",
"- [GenericChart](#GenericChart)\n",
"- [Working with GenericCharts](#Working-with-GenericCharts)\n",
"    - [Dynamic object style](#Dynamic-object-style)\n",
"\n",
"## GenericChart\n",
"\n",
"\n",
"Plotly.NET is a .NET wrapper for creation of [plotly charts]() written in F#. This means that, under the hood, all functionality creates JSON objects that can be rendered by plotly.\n",
"\n",
"The central type that gets created by all Chart constructors is `GenericChart`, which itself represents either a single chart or a multi chart (as a Discriminate Union type). It looks like this:\n",
"\n",
"\n"]
          }
,
          {
           "cell_type": "code",
           "metadata": {},
            "execution_count": null, "outputs": [], 
           "source": ["type GenericChart =\n",
"    | Chart of Trace * Layout * Config * DisplayOptions\n",
"    | MultiChart of Trace list * Layout * Config * DisplayOptions\n"]
          }
,
          {
           "cell_type": "markdown",
           "metadata": {},
           
           "source": ["As you can see, a `GenericChart` consists of four top level objects - `Trace` (multiple of those in the case of a MultiChart) , `Layout`, `Config`, and `DisplayOptions`.\n",
"\n",
"- `Trace` is in principle the representation of a dataset on a chart, including for example the data itself, color and shape of the visualization, etc.\n",
"- `Layout` is everything of the chart that is not dataset specifivc - e.g. the shape and style of axes, the chart title, etc.\n",
"- `Config` is an object that configures high level properties of the chart like making all chart elements editable or the tool bar on top\n",
"- `DisplayOptions` is an object that contains meta information about how the html document that contains the chart.\n",
"\n",
"## Working with GenericCharts\n",
"\n",
"### Dynamic object style\n",
"\n",
"Plotly.NET has multiple abstraction layers to work with `GenericChart`s. The prime directive for all functions provided by this library is the construction of valid plotly JSON objects.\n",
"For this purpose, `Trace`, `Layout`, and `Config` (and many other internal objects) are inheriting from [`DynamicObj`](https://github.com/plotly/Plotly.NET/blob/dev/src/Plotly.NET/DynamicObj.fs),\n",
"an extension of `DynamicObject` which makes it possible to set arbitraryly named and typed properties of these objects via the `?` operator.\n",
"\n",
"So if you want to set any kind of property on one of these objects you can do it in a very declarative way like this:\n",
"\n"]
          }
,
          {
           "cell_type": "code",
           "metadata": {},
            "execution_count": 3, "outputs": [], 
           "source": ["let myTrace = Trace(\"scatter\") // create a scatter trace\n",
"myTrace?x \u003c- [0;1;2] // set the x property (the x dimension of the data)\n",
"myTrace?y \u003c- [0;1;2] // set the y property (the y dimension of the data)\n",
"\n",
"GenericChart.ofTraceObject myTrace // create a generic chart (layout and config are empty objects)\n",
"|\u003e Chart.Show\n"]
          }
,
          {
           "cell_type": "markdown",
           "metadata": {},
           
           "source": ["lets have a look at the trace object that will be created. The relevant section of the html generated with Chart.Show is the following:\n",
"\n",
"```javascript\n",
"var data = [{\"type\":\"scatter\",\"x\":[0,1,2],\"y\":[0,1,2]}];\n",
"```\n",
"\n",
"\n"]
          }],
            "metadata": {
            "kernelspec": {"display_name": ".NET (F#)", "language": "F#", "name": ".net-fsharp"},
            "langauge_info": {
        "file_extension": ".fs",
        "mimetype": "text/x-fsharp",
        "name": "C#",
        "pygments_lexer": "fsharp",
        "version": "4.5"
        }
        },
            "nbformat": 4,
            "nbformat_minor": 1
        }
        


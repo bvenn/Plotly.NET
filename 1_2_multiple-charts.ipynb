
        {
            "cells": [
          {
           "cell_type": "markdown",
           "metadata": {},
           
           "source": ["// can\u0027t yet format YamlFrontmatter ([\"title: Multicharts and subplots\"; \"category: Chart Layout\"; \"categoryindex: 2\"; \"index: 3\"], Some { StartLine = 2 StartColumn = 0 EndLine = 6 EndColumn = 8 }) to pynb markdown\n",
"\n"]
          }
,
          {
           "cell_type": "code",
           "metadata": {},
            "execution_count": null, "outputs": [], 
           "source": ["#r \"nuget: Plotly.NET, 2.0.0\"\n",
"#r \"nuget: Plotly.NET.Interactive, 2.0.0\"\n"]
          }
,
          {
           "cell_type": "markdown",
           "metadata": {},
           
           "source": ["# Multicharts and subplots\n",
"\n",
"[![Binder](https://plotly.net/img/badge-binder.svg)](https://mybinder.org/v2/gh/plotly/Plotly.NET/gh-pages?filepath=1_2_multiple-charts.ipynb)\u0026emsp;\n",
"[![Script](https://plotly.net/img/badge-script.svg)](https://plotly.net/1_2_multiple-charts.fsx)\u0026emsp;\n",
"[![Notebook](https://plotly.net/img/badge-notebook.svg)](https://plotly.net/1_2_multiple-charts.ipynb)\n",
"\n",
"*Summary:* This example shows how to create charts with multiple subplots in F#.\n",
"\n",
"let\u0027s first create some data for the purpose of creating example charts:\n",
"\n",
"\n"]
          }
,
          {
           "cell_type": "code",
           "metadata": {},
            "execution_count": 3, "outputs": [], 
           "source": ["open Plotly.NET \n",
"  \n",
"let x = [1.; 2.; 3.; 4.; 5.; 6.; 7.; 8.; 9.; 10.; ]\n",
"let y = [2.; 1.5; 5.; 1.5; 3.; 2.5; 2.5; 1.5; 3.5; 1.]\n"]
          }
,
          {
           "cell_type": "markdown",
           "metadata": {},
           
           "source": ["## Combining charts\n",
"\n",
"`Chart.Combine` takes a sequence of charts, and attempts to combine their layouts to \n",
"produce a composite chart with one layout containing all traces of the input:\n",
"\n",
"\n"]
          }
,
          {
           "cell_type": "code",
           "metadata": {},
            "execution_count": 4, "outputs": [
          {
           "data": {
            "text/html": ["\u003cdiv id=\"7aafc647-d398-4559-b2b7-185da8380bb3\" style=\"width: 600px; height: 600px;\"\u003e\u003c!-- Plotly chart will be drawn inside this DIV --\u003e\u003c/div\u003e",
"\u003cscript type=\"text/javascript\"\u003e",
"",
"            var renderPlotly_7aafc647d3984559b2b7185da8380bb3 = function() {",
"            var fsharpPlotlyRequire = requirejs.config({context:\u0027fsharp-plotly\u0027,paths:{plotly:\u0027https://cdn.plot.ly/plotly-latest.min\u0027}}) || require;",
"            fsharpPlotlyRequire([\u0027plotly\u0027], function(Plotly) {",
"",
"            var data = [{\"type\":\"scatter\",\"x\":[1.0,2.0,3.0,4.0,5.0,6.0,7.0,8.0,9.0,10.0],\"y\":[2.0,1.5,5.0,1.5,3.0,2.5,2.5,1.5,3.5,1.0],\"mode\":\"lines\",\"line\":{},\"name\":\"first\",\"marker\":{}},{\"type\":\"scatter\",\"x\":[2.0,1.5,5.0,1.5,3.0,2.5,2.5,1.5,3.5,1.0],\"y\":[1.0,2.0,3.0,4.0,5.0,6.0,7.0,8.0,9.0,10.0],\"mode\":\"lines\",\"line\":{},\"name\":\"second\",\"marker\":{}}];",
"            var layout = {};",
"            var config = {};",
"            Plotly.newPlot(\u00277aafc647-d398-4559-b2b7-185da8380bb3\u0027, data, layout, config);",
"});",
"            };",
"            if ((typeof(requirejs) !==  typeof(Function)) || (typeof(requirejs.config) !== typeof(Function))) {",
"                var script = document.createElement(\"script\");",
"                script.setAttribute(\"src\", \"https://cdnjs.cloudflare.com/ajax/libs/require.js/2.3.6/require.min.js\");",
"                script.onload = function(){",
"                    renderPlotly_7aafc647d3984559b2b7185da8380bb3();",
"                };",
"                document.getElementsByTagName(\"head\")[0].appendChild(script);",
"            }",
"            else {",
"                renderPlotly_7aafc647d3984559b2b7185da8380bb3();",
"            }",
"\u003c/script\u003e",
""]
        },
           "execution_count": 4,
           "metadata": {},
           "output_type": "execute_result"
          }], 
           "source": ["let combinedChart = \n",
"    [\n",
"        Chart.Line(x,y,Name=\"first\")\n",
"        Chart.Line(y,x,Name=\"second\")\n",
"    ]\n",
"    |\u003e Chart.Combine\n",
"\n",
"combinedChart\n",
"#endif // end cell with chart value in a notebook context\n"]
          }
,
          {
           "cell_type": "markdown",
           "metadata": {},
           
           "source": ["## Chart subplot grids\n",
"\n",
"### Chart.Grid\n",
"\n",
"`Chart.Grid` takes a 2D input sequence of charts and creates a subplot grid \n",
"with the dimensions (outerlength,(max (innerLengths))\n",
"\n",
"\n"]
          }
,
          {
           "cell_type": "code",
           "metadata": {},
            "execution_count": 6, "outputs": [], 
           "source": ["//simple 3x3 subplot grid\n",
"let grid = \n",
"    Chart.Grid(\n",
"        [\n",
"            [Chart.Line(x,y); Chart.Line(x,y); Chart.Line(x,y)]\n",
"            [Chart.Point(x,y); Chart.Point(x,y); Chart.Point(x,y)]\n",
"            [Chart.Spline(x,y); Chart.Spline(x,y); Chart.Spline(x,y)]\n",
"        ]\n",
"    )\n"]
          }
,
          {
           "cell_type": "code",
           "metadata": {},
            "execution_count": null, "outputs": [
          {
           "data": {
            "text/html": ["\u003cdiv id=\"f9c0e5a0-1711-4c73-9f0d-b594482ce2b2\" style=\"width: 600px; height: 600px;\"\u003e\u003c!-- Plotly chart will be drawn inside this DIV --\u003e\u003c/div\u003e",
"\u003cscript type=\"text/javascript\"\u003e",
"",
"            var renderPlotly_f9c0e5a017114c739f0db594482ce2b2 = function() {",
"            var fsharpPlotlyRequire = requirejs.config({context:\u0027fsharp-plotly\u0027,paths:{plotly:\u0027https://cdn.plot.ly/plotly-latest.min\u0027}}) || require;",
"            fsharpPlotlyRequire([\u0027plotly\u0027], function(Plotly) {",
"",
"            var data = [{\"type\":\"scatter\",\"x\":[1.0,2.0,3.0,4.0,5.0,6.0,7.0,8.0,9.0,10.0],\"y\":[2.0,1.5,5.0,1.5,3.0,2.5,2.5,1.5,3.5,1.0],\"mode\":\"lines\",\"line\":{},\"marker\":{},\"xaxis\":\"x\",\"yaxis\":\"y\"},{\"type\":\"scatter\",\"x\":[1.0,2.0,3.0,4.0,5.0,6.0,7.0,8.0,9.0,10.0],\"y\":[2.0,1.5,5.0,1.5,3.0,2.5,2.5,1.5,3.5,1.0],\"mode\":\"lines\",\"line\":{},\"marker\":{},\"xaxis\":\"x2\",\"yaxis\":\"y2\"},{\"type\":\"scatter\",\"x\":[1.0,2.0,3.0,4.0,5.0,6.0,7.0,8.0,9.0,10.0],\"y\":[2.0,1.5,5.0,1.5,3.0,2.5,2.5,1.5,3.5,1.0],\"mode\":\"lines\",\"line\":{},\"marker\":{},\"xaxis\":\"x3\",\"yaxis\":\"y3\"},{\"type\":\"scatter\",\"x\":[1.0,2.0,3.0,4.0,5.0,6.0,7.0,8.0,9.0,10.0],\"y\":[2.0,1.5,5.0,1.5,3.0,2.5,2.5,1.5,3.5,1.0],\"mode\":\"markers\",\"marker\":{},\"xaxis\":\"x4\",\"yaxis\":\"y4\"},{\"type\":\"scatter\",\"x\":[1.0,2.0,3.0,4.0,5.0,6.0,7.0,8.0,9.0,10.0],\"y\":[2.0,1.5,5.0,1.5,3.0,2.5,2.5,1.5,3.5,1.0],\"mode\":\"markers\",\"marker\":{},\"xaxis\":\"x5\",\"yaxis\":\"y5\"},{\"type\":\"scatter\",\"x\":[1.0,2.0,3.0,4.0,5.0,6.0,7.0,8.0,9.0,10.0],\"y\":[2.0,1.5,5.0,1.5,3.0,2.5,2.5,1.5,3.5,1.0],\"mode\":\"markers\",\"marker\":{},\"xaxis\":\"x6\",\"yaxis\":\"y6\"},{\"type\":\"scatter\",\"x\":[1.0,2.0,3.0,4.0,5.0,6.0,7.0,8.0,9.0,10.0],\"y\":[2.0,1.5,5.0,1.5,3.0,2.5,2.5,1.5,3.5,1.0],\"mode\":\"lines\",\"line\":{\"shape\":\"spline\"},\"marker\":{},\"xaxis\":\"x7\",\"yaxis\":\"y7\"},{\"type\":\"scatter\",\"x\":[1.0,2.0,3.0,4.0,5.0,6.0,7.0,8.0,9.0,10.0],\"y\":[2.0,1.5,5.0,1.5,3.0,2.5,2.5,1.5,3.5,1.0],\"mode\":\"lines\",\"line\":{\"shape\":\"spline\"},\"marker\":{},\"xaxis\":\"x8\",\"yaxis\":\"y8\"},{\"type\":\"scatter\",\"x\":[1.0,2.0,3.0,4.0,5.0,6.0,7.0,8.0,9.0,10.0],\"y\":[2.0,1.5,5.0,1.5,3.0,2.5,2.5,1.5,3.5,1.0],\"mode\":\"lines\",\"line\":{\"shape\":\"spline\"},\"marker\":{},\"xaxis\":\"x9\",\"yaxis\":\"y9\"}];",
"            var layout = {\"xaxis\":{\"anchor\":\"x\",\"domain\":[0.0,0.3083333333333333]},\"yaxis\":{\"anchor\":\"y\",\"domain\":[0.0,0.3083333333333333]},\"xaxis2\":{\"anchor\":\"x2\",\"domain\":[0.35833333333333334,0.6416666666666666]},\"yaxis2\":{\"anchor\":\"y2\",\"domain\":[0.0,0.3083333333333333]},\"xaxis3\":{\"anchor\":\"x3\",\"domain\":[0.6916666666666667,0.975]},\"yaxis3\":{\"anchor\":\"y3\",\"domain\":[0.0,0.3083333333333333]},\"xaxis4\":{\"anchor\":\"x4\",\"domain\":[0.0,0.3083333333333333]},\"yaxis4\":{\"anchor\":\"y4\",\"domain\":[0.35833333333333334,0.6416666666666666]},\"xaxis5\":{\"anchor\":\"x5\",\"domain\":[0.35833333333333334,0.6416666666666666]},\"yaxis5\":{\"anchor\":\"y5\",\"domain\":[0.35833333333333334,0.6416666666666666]},\"xaxis6\":{\"anchor\":\"x6\",\"domain\":[0.6916666666666667,0.975]},\"yaxis6\":{\"anchor\":\"y6\",\"domain\":[0.35833333333333334,0.6416666666666666]},\"xaxis7\":{\"anchor\":\"x7\",\"domain\":[0.0,0.3083333333333333]},\"yaxis7\":{\"anchor\":\"y7\",\"domain\":[0.6916666666666667,0.975]},\"xaxis8\":{\"anchor\":\"x8\",\"domain\":[0.35833333333333334,0.6416666666666666]},\"yaxis8\":{\"anchor\":\"y8\",\"domain\":[0.6916666666666667,0.975]},\"xaxis9\":{\"anchor\":\"x9\",\"domain\":[0.6916666666666667,0.975]},\"yaxis9\":{\"anchor\":\"y9\",\"domain\":[0.6916666666666667,0.975]},\"grid\":{\"rows\":3,\"columns\":3,\"roworder\":\"top to bottom\",\"pattern\":\"independent\",\"xgap\":0.05,\"ygap\":0.05}};",
"            var config = {};",
"            Plotly.newPlot(\u0027f9c0e5a0-1711-4c73-9f0d-b594482ce2b2\u0027, data, layout, config);",
"});",
"            };",
"            if ((typeof(requirejs) !==  typeof(Function)) || (typeof(requirejs.config) !== typeof(Function))) {",
"                var script = document.createElement(\"script\");",
"                script.setAttribute(\"src\", \"https://cdnjs.cloudflare.com/ajax/libs/require.js/2.3.6/require.min.js\");",
"                script.onload = function(){",
"                    renderPlotly_f9c0e5a017114c739f0db594482ce2b2();",
"                };",
"                document.getElementsByTagName(\"head\")[0].appendChild(script);",
"            }",
"            else {",
"                renderPlotly_f9c0e5a017114c739f0db594482ce2b2();",
"            }",
"\u003c/script\u003e",
""]
        },
           "execution_count": null,
           "metadata": {},
           "output_type": "execute_result"
          }], 
           "source": ["grid\n"]
          }
,
          {
           "cell_type": "markdown",
           "metadata": {},
           
           "source": ["use `sharedAxis=true` to use one shared x axis per column and one shared y axis per row. \n",
"(Try zooming in the single subplots below)\n",
"\n"]
          }
,
          {
           "cell_type": "code",
           "metadata": {},
            "execution_count": 8, "outputs": [], 
           "source": ["let grid2 =\n",
"    Chart.Grid(\n",
"        [\n",
"            [Chart.Line(x,y); Chart.Line(x,y); Chart.Line(x,y)]\n",
"            [Chart.Point(x,y); Chart.Point(x,y); Chart.Point(x,y)]\n",
"            [Chart.Spline(x,y); Chart.Spline(x,y); Chart.Spline(x,y)]\n",
"        ],\n",
"        sharedAxes=true\n",
"    )\n",
"    |\u003e Chart.withLayoutGridStyle(\n",
"        XSide = StyleParam.LayoutGridXSide.Bottom\n",
"    )\n"]
          }
,
          {
           "cell_type": "code",
           "metadata": {},
            "execution_count": null, "outputs": [
          {
           "data": {
            "text/html": ["\u003cdiv id=\"8685102d-e532-4a3a-bb5d-d3e281466a20\" style=\"width: 600px; height: 600px;\"\u003e\u003c!-- Plotly chart will be drawn inside this DIV --\u003e\u003c/div\u003e",
"\u003cscript type=\"text/javascript\"\u003e",
"",
"            var renderPlotly_8685102de5324a3abb5dd3e281466a20 = function() {",
"            var fsharpPlotlyRequire = requirejs.config({context:\u0027fsharp-plotly\u0027,paths:{plotly:\u0027https://cdn.plot.ly/plotly-latest.min\u0027}}) || require;",
"            fsharpPlotlyRequire([\u0027plotly\u0027], function(Plotly) {",
"",
"            var data = [{\"type\":\"scatter\",\"x\":[1.0,2.0,3.0,4.0,5.0,6.0,7.0,8.0,9.0,10.0],\"y\":[2.0,1.5,5.0,1.5,3.0,2.5,2.5,1.5,3.5,1.0],\"mode\":\"lines\",\"line\":{},\"marker\":{},\"xaxis\":\"x\",\"yaxis\":\"y\"},{\"type\":\"scatter\",\"x\":[1.0,2.0,3.0,4.0,5.0,6.0,7.0,8.0,9.0,10.0],\"y\":[2.0,1.5,5.0,1.5,3.0,2.5,2.5,1.5,3.5,1.0],\"mode\":\"lines\",\"line\":{},\"marker\":{},\"xaxis\":\"x2\",\"yaxis\":\"y\"},{\"type\":\"scatter\",\"x\":[1.0,2.0,3.0,4.0,5.0,6.0,7.0,8.0,9.0,10.0],\"y\":[2.0,1.5,5.0,1.5,3.0,2.5,2.5,1.5,3.5,1.0],\"mode\":\"lines\",\"line\":{},\"marker\":{},\"xaxis\":\"x3\",\"yaxis\":\"y\"},{\"type\":\"scatter\",\"x\":[1.0,2.0,3.0,4.0,5.0,6.0,7.0,8.0,9.0,10.0],\"y\":[2.0,1.5,5.0,1.5,3.0,2.5,2.5,1.5,3.5,1.0],\"mode\":\"markers\",\"marker\":{},\"xaxis\":\"x\",\"yaxis\":\"y2\"},{\"type\":\"scatter\",\"x\":[1.0,2.0,3.0,4.0,5.0,6.0,7.0,8.0,9.0,10.0],\"y\":[2.0,1.5,5.0,1.5,3.0,2.5,2.5,1.5,3.5,1.0],\"mode\":\"markers\",\"marker\":{},\"xaxis\":\"x2\",\"yaxis\":\"y2\"},{\"type\":\"scatter\",\"x\":[1.0,2.0,3.0,4.0,5.0,6.0,7.0,8.0,9.0,10.0],\"y\":[2.0,1.5,5.0,1.5,3.0,2.5,2.5,1.5,3.5,1.0],\"mode\":\"markers\",\"marker\":{},\"xaxis\":\"x3\",\"yaxis\":\"y2\"},{\"type\":\"scatter\",\"x\":[1.0,2.0,3.0,4.0,5.0,6.0,7.0,8.0,9.0,10.0],\"y\":[2.0,1.5,5.0,1.5,3.0,2.5,2.5,1.5,3.5,1.0],\"mode\":\"lines\",\"line\":{\"shape\":\"spline\"},\"marker\":{},\"xaxis\":\"x\",\"yaxis\":\"y3\"},{\"type\":\"scatter\",\"x\":[1.0,2.0,3.0,4.0,5.0,6.0,7.0,8.0,9.0,10.0],\"y\":[2.0,1.5,5.0,1.5,3.0,2.5,2.5,1.5,3.5,1.0],\"mode\":\"lines\",\"line\":{\"shape\":\"spline\"},\"marker\":{},\"xaxis\":\"x2\",\"yaxis\":\"y3\"},{\"type\":\"scatter\",\"x\":[1.0,2.0,3.0,4.0,5.0,6.0,7.0,8.0,9.0,10.0],\"y\":[2.0,1.5,5.0,1.5,3.0,2.5,2.5,1.5,3.5,1.0],\"mode\":\"lines\",\"line\":{\"shape\":\"spline\"},\"marker\":{},\"xaxis\":\"x3\",\"yaxis\":\"y3\"}];",
"            var layout = {\"xaxis\":{\"anchor\":\"x\",\"domain\":[0.0,0.3083333333333333]},\"yaxis\":{\"anchor\":\"y\",\"domain\":[0.0,0.3083333333333333]},\"xaxis2\":{\"anchor\":\"x2\",\"domain\":[0.35833333333333334,0.6416666666666666]},\"xaxis3\":{\"anchor\":\"x3\",\"domain\":[0.6916666666666667,0.975]},\"yaxis2\":{\"anchor\":\"y2\",\"domain\":[0.35833333333333334,0.6416666666666666]},\"yaxis3\":{\"anchor\":\"y3\",\"domain\":[0.6916666666666667,0.975]},\"grid\":{\"rows\":3,\"columns\":3,\"roworder\":\"top to bottom\",\"pattern\":\"coupled\",\"xgap\":0.05,\"ygap\":0.05,\"xside\":\"bottom\"}};",
"            var config = {};",
"            Plotly.newPlot(\u00278685102d-e532-4a3a-bb5d-d3e281466a20\u0027, data, layout, config);",
"});",
"            };",
"            if ((typeof(requirejs) !==  typeof(Function)) || (typeof(requirejs.config) !== typeof(Function))) {",
"                var script = document.createElement(\"script\");",
"                script.setAttribute(\"src\", \"https://cdnjs.cloudflare.com/ajax/libs/require.js/2.3.6/require.min.js\");",
"                script.onload = function(){",
"                    renderPlotly_8685102de5324a3abb5dd3e281466a20();",
"                };",
"                document.getElementsByTagName(\"head\")[0].appendChild(script);",
"            }",
"            else {",
"                renderPlotly_8685102de5324a3abb5dd3e281466a20();",
"            }",
"\u003c/script\u003e",
""]
        },
           "execution_count": null,
           "metadata": {},
           "output_type": "execute_result"
          }], 
           "source": ["grid2\n"]
          }
,
          {
           "cell_type": "markdown",
           "metadata": {},
           
           "source": ["### Chart.SingleStack\n",
"\n",
"The `Chart.SingleStack` function is a special version of Chart.Grid that creates only one column from a 1D input chart sequence.\n",
"It uses a shared x axis per default. You can also use the Chart.withLayoutGridStyle to further style subplot grids:\n",
"\n",
"\n"]
          }
,
          {
           "cell_type": "code",
           "metadata": {},
            "execution_count": 10, "outputs": [], 
           "source": ["let singleStack =\n",
"    [\n",
"        Chart.Point(x,y) \n",
"        |\u003e Chart.withY_AxisStyle(\"This title must\")\n",
"\n",
"        Chart.Line(x,y) \n",
"        |\u003e Chart.withY_AxisStyle(\"be set on the\",Zeroline=false)\n",
"        \n",
"        Chart.Spline(x,y) \n",
"        |\u003e Chart.withY_AxisStyle(\"respective subplots\",Zeroline=false)\n",
"    ]\n",
"    |\u003e Chart.SingleStack\n",
"    //move xAxis to bottom and increase spacing between plots by using the withLayoutGridStyle function\n",
"    |\u003e Chart.withLayoutGridStyle(XSide=StyleParam.LayoutGridXSide.Bottom,YGap= 0.1)\n",
"    |\u003e Chart.withTitle(\"Hi i am the new SingleStackChart\")\n",
"    |\u003e Chart.withX_AxisStyle(\"im the shared xAxis\")\n"]
          }
,
          {
           "cell_type": "code",
           "metadata": {},
            "execution_count": null, "outputs": [
          {
           "data": {
            "text/html": ["\u003cdiv id=\"227b5b01-97a4-4f33-80fb-fedf5e9a168b\" style=\"width: 600px; height: 600px;\"\u003e\u003c!-- Plotly chart will be drawn inside this DIV --\u003e\u003c/div\u003e",
"\u003cscript type=\"text/javascript\"\u003e",
"",
"            var renderPlotly_227b5b0197a44f3380fbfedf5e9a168b = function() {",
"            var fsharpPlotlyRequire = requirejs.config({context:\u0027fsharp-plotly\u0027,paths:{plotly:\u0027https://cdn.plot.ly/plotly-latest.min\u0027}}) || require;",
"            fsharpPlotlyRequire([\u0027plotly\u0027], function(Plotly) {",
"",
"            var data = [{\"type\":\"scatter\",\"x\":[1.0,2.0,3.0,4.0,5.0,6.0,7.0,8.0,9.0,10.0],\"y\":[2.0,1.5,5.0,1.5,3.0,2.5,2.5,1.5,3.5,1.0],\"mode\":\"markers\",\"marker\":{},\"xaxis\":\"x\",\"yaxis\":\"y\"},{\"type\":\"scatter\",\"x\":[1.0,2.0,3.0,4.0,5.0,6.0,7.0,8.0,9.0,10.0],\"y\":[2.0,1.5,5.0,1.5,3.0,2.5,2.5,1.5,3.5,1.0],\"mode\":\"lines\",\"line\":{},\"marker\":{},\"xaxis\":\"x\",\"yaxis\":\"y2\"},{\"type\":\"scatter\",\"x\":[1.0,2.0,3.0,4.0,5.0,6.0,7.0,8.0,9.0,10.0],\"y\":[2.0,1.5,5.0,1.5,3.0,2.5,2.5,1.5,3.5,1.0],\"mode\":\"lines\",\"line\":{\"shape\":\"spline\"},\"marker\":{},\"xaxis\":\"x\",\"yaxis\":\"y3\"}];",
"            var layout = {\"xaxis\":{\"anchor\":\"x\",\"domain\":[0.0,0.975],\"title\":\"im the shared xAxis\"},\"yaxis\":{\"title\":\"This title must\",\"anchor\":\"y\",\"domain\":[0.0,0.3083333333333333]},\"yaxis2\":{\"title\":\"be set on the\",\"zeroline\":false,\"anchor\":\"y2\",\"domain\":[0.35833333333333334,0.6416666666666666]},\"yaxis3\":{\"title\":\"respective subplots\",\"zeroline\":false,\"anchor\":\"y3\",\"domain\":[0.6916666666666667,0.975]},\"grid\":{\"rows\":3,\"columns\":1,\"roworder\":\"bottom to top\",\"pattern\":\"coupled\",\"xgap\":0.05,\"ygap\":0.1,\"xside\":\"bottom\"},\"title\":\"Hi i am the new SingleStackChart\"};",
"            var config = {};",
"            Plotly.newPlot(\u0027227b5b01-97a4-4f33-80fb-fedf5e9a168b\u0027, data, layout, config);",
"});",
"            };",
"            if ((typeof(requirejs) !==  typeof(Function)) || (typeof(requirejs.config) !== typeof(Function))) {",
"                var script = document.createElement(\"script\");",
"                script.setAttribute(\"src\", \"https://cdnjs.cloudflare.com/ajax/libs/require.js/2.3.6/require.min.js\");",
"                script.onload = function(){",
"                    renderPlotly_227b5b0197a44f3380fbfedf5e9a168b();",
"                };",
"                document.getElementsByTagName(\"head\")[0].appendChild(script);",
"            }",
"            else {",
"                renderPlotly_227b5b0197a44f3380fbfedf5e9a168b();",
"            }",
"\u003c/script\u003e",
""]
        },
           "execution_count": null,
           "metadata": {},
           "output_type": "execute_result"
          }], 
           "source": ["singleStack\n"]
          }],
            "metadata": {
            "kernelspec": {"display_name": ".NET (F#)", "language": "F#", "name": ".net-fsharp"},
            "langauge_info": {
        "file_extension": ".fs",
        "mimetype": "text/x-fsharp",
        "name": "C#",
        "pygments_lexer": "fsharp",
        "version": "4.5"
        }
        },
            "nbformat": 4,
            "nbformat_minor": 1
        }
        


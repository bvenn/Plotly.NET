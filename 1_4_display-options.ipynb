
        {
            "cells": [
          {
           "cell_type": "markdown",
           "metadata": {},
           
           "source": ["// can\u0027t yet format YamlFrontmatter ([\"title: Display Options\"; \"category: Chart Layout\"; \"categoryindex: 2\"; \"index: 5\"], Some { StartLine = 2 StartColumn = 0 EndLine = 6 EndColumn = 8 }) to pynb markdown\n",
"\n"]
          }
,
          {
           "cell_type": "code",
           "metadata": {},
            "execution_count": null, "outputs": [], 
           "source": ["#r \"nuget: Plotly.NET, 2.0.0\"\n",
"#r \"nuget: Plotly.NET.Interactive, 2.0.0\"\n"]
          }
,
          {
           "cell_type": "markdown",
           "metadata": {},
           
           "source": ["# Display Options\n",
"\n",
"[![Binder](https://plotly.net/img/badge-binder.svg)](https://mybinder.org/v2/gh/plotly/Plotly.NET/gh-pages?filepath=1_4_display-options.ipynb)\u0026emsp;\n",
"[![Script](https://plotly.net/img/badge-script.svg)](https://plotly.net/1_4_display-options.fsx)\u0026emsp;\n",
"[![Notebook](https://plotly.net/img/badge-notebook.svg)](https://plotly.net/1_4_display-options.ipynb)\n",
"\n",
"*Summary:* This example shows how to alter the display options that control the html document that contains plotly charts\n",
"\n",
"You can control the html document that gets created via `Chart.Show` with various functions that change a chart\u0027s `DisplayOptions`.\n",
"\n",
"Naturally, these full html documents can not be embedded in this documentation page, so images have to suffice in this case.\n",
"\n",
"let\u0027s first create some data for the purpose of creating example charts:\n",
"\n",
"\n"]
          }
,
          {
           "cell_type": "code",
           "metadata": {},
            "execution_count": 3, "outputs": [], 
           "source": ["open Plotly.NET \n",
"  \n",
"let x  = [1.; 2.; 3.; 4.; 5.; 6.; 7.; 8.; 9.; 10.; ]\n",
"let y = [2.; 1.5; 5.; 1.5; 3.; 2.5; 2.5; 1.5; 3.5; 1.]\n"]
          }
,
          {
           "cell_type": "markdown",
           "metadata": {},
           
           "source": ["## Chart description\n",
"\n",
"To create a chart description to put below the chart, use `ChartDescription.create` to create the description, and `Chart.WithDescription` \n",
"to add the description to the chart\u0027s display options:\n",
"\n"]
          }
,
          {
           "cell_type": "code",
           "metadata": {},
            "execution_count": 4, "outputs": [], 
           "source": ["let description1 =\n",
"    ChartDescription.create \"Hello\" \"F#\"\n"]
          }
,
          {
           "cell_type": "code",
           "metadata": {},
            "execution_count": null, "outputs": [], 
           "source": ["let desc1 =\n",
"    Chart.Point(x,y,Name=\"desc1\")    \n",
"    |\u003e Chart.WithDescription(description1)\n",
"    |\u003e Chart.Show\n"]
          }
,
          {
           "cell_type": "markdown",
           "metadata": {},
           
           "source": ["![](https://plotly.net/img/desc1.png)\n",
"\n",
"The `ChartDescription` type is a bit barebones for now, but you can contain any valid html in both `Heading` and `Text` fields:\n",
"\n"]
          }
,
          {
           "cell_type": "code",
           "metadata": {},
            "execution_count": 5, "outputs": [], 
           "source": ["let description2 =\n",
"    ChartDescription.create \"\u003ch1\u003eI am heading\u003c/h1\u003e\" \"\u003col\u003e\u003cli\u003eHi\u003c/li\u003e\u003cli\u003ethere\u003c/li\u003e\u003c/ol\u003e\"\n"]
          }
,
          {
           "cell_type": "code",
           "metadata": {},
            "execution_count": null, "outputs": [], 
           "source": ["let desc2 =\n",
"    Chart.Point(x,y,Name=\"desc1\")    \n",
"    |\u003e Chart.WithDescription(description2)\n",
"    |\u003e Chart.Show\n"]
          }
,
          {
           "cell_type": "markdown",
           "metadata": {},
           
           "source": ["![](https://plotly.net/img/desc2.png)\n",
"\n",
"## Adding additional head tags\n",
"\n",
"You can add any number of additional html tags to the documents `\u003chead\u003e` tag using `Chart.WithAdditionalHeadTags`.\n",
"\n",
"For example, you can load external css libraries to style the chart description:\n",
"\n",
"\n"]
          }
,
          {
           "cell_type": "code",
           "metadata": {},
            "execution_count": 6, "outputs": [], 
           "source": ["//html for description containing bulma classes such as \"hero\"\n",
"let bulmaHero = \"\"\"\u003csection class=\"hero is-primary is-bold\"\u003e\n",
"  \u003cdiv class=\"hero-body\"\u003e\n",
"    \u003cp class=\"title\"\u003e\n",
"      Hero title\n",
"    \u003c/p\u003e\n",
"    \u003cp class=\"subtitle\"\u003e\n",
"      Hero subtitle\n",
"    \u003c/p\u003e\n",
"  \u003c/div\u003e\n",
"\u003c/section\u003e\n",
"\"\"\"\n",
"\n",
"// chart description containing bulma classes\n",
"let description3 =\n",
"    ChartDescription.create \n",
"        \"\"\"\u003ch1 class=\"title\"\u003eI am heading\u003c/h1\u003e\"\"\" \n",
"       bulmaHero\n"]
          }
,
          {
           "cell_type": "code",
           "metadata": {},
            "execution_count": null, "outputs": [], 
           "source": ["let desc3 =\n",
"    Chart.Point(x,y,Name=\"desc3\")    \n",
"    |\u003e Chart.WithDescription description3\n",
"    // Add reference to the bulma css framework\n",
"    |\u003e Chart.WithAdditionalHeadTags [\"\"\"\u003clink rel=\"stylesheet\" href=\"https://cdn.jsdelivr.net/npm/bulma@0.9.2/css/bulma.min.css\"\u003e\"\"\"]\n",
"    |\u003e Chart.Show\n"]
          }
,
          {
           "cell_type": "markdown",
           "metadata": {},
           
           "source": ["![](https://plotly.net/img/desc3.png)\n",
"\n",
"## Using MathTeX\n",
"\n",
"By popular request, `Chart.WithMathTex` is a prebuilt function to enable MathTeX for your generated plotly chart documents:\n",
"\n",
"\n"]
          }
,
          {
           "cell_type": "code",
           "metadata": {},
            "execution_count": null, "outputs": [], 
           "source": ["[\n",
"    Chart.Point([(1.,2.)],@\"$\\beta_{1c} = 25 \\pm 11 \\text{ km s}^{-1}$\")\n",
"    Chart.Point([(2.,4.)],@\"$\\beta_{1c} = 25 \\pm 11 \\text{ km s}^{-1}$\")\n",
"]\n",
"|\u003e Chart.Combine\n",
"|\u003e Chart.withTitle @\"$\\beta_{1c} = 25 \\pm 11 \\text{ km s}^{-1}$\"\n",
"// include mathtex tags in \u003chead\u003e. pass true to append these scripts, false to ONLY include MathTeX.\n",
"|\u003e Chart.WithMathTex(true)\n",
"|\u003e Chart.Show\n"]
          }
,
          {
           "cell_type": "markdown",
           "metadata": {},
           
           "source": ["![](https://plotly.net/img/desc4.png)\n",
"\n",
"\n"]
          }],
            "metadata": {
            "kernelspec": {"display_name": ".NET (F#)", "language": "F#", "name": ".net-fsharp"},
            "langauge_info": {
        "file_extension": ".fs",
        "mimetype": "text/x-fsharp",
        "name": "C#",
        "pygments_lexer": "fsharp",
        "version": "4.5"
        }
        },
            "nbformat": 4,
            "nbformat_minor": 1
        }
        


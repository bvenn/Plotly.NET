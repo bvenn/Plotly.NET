
        {
            "cells": [
          {
           "cell_type": "markdown",
           "metadata": {},
           
           "source": ["// can\u0027t yet format YamlFrontmatter ([\"title: 3D Scatter charts\"; \"category: 3D Charts\"; \"categoryindex: 4\"; \"index: 1\"], Some { StartLine = 2 StartColumn = 0 EndLine = 6 EndColumn = 8 }) to pynb markdown\n",
"\n"]
          }
,
          {
           "cell_type": "code",
           "metadata": {},
            "execution_count": null, "outputs": [], 
           "source": ["#r \"nuget: Plotly.NET, 2.0.0\"\n",
"#r \"nuget: Plotly.NET.Interactive, 2.0.0\"\n"]
          }
,
          {
           "cell_type": "markdown",
           "metadata": {},
           
           "source": ["# 3D Scatter charts\n",
"\n",
"[![Binder](https://plotly.net/img/badge-binder.svg)](https://mybinder.org/v2/gh/plotly/Plotly.NET/gh-pages?filepath=3_0_3d-scatter-plots.ipynb)\u0026emsp;\n",
"[![Script](https://plotly.net/img/badge-script.svg)](https://plotly.net/3_0_3d-scatter-plots.fsx)\u0026emsp;\n",
"[![Notebook](https://plotly.net/img/badge-notebook.svg)](https://plotly.net/3_0_3d-scatter-plots.ipynb)\n",
"\n",
"*Summary:* This example shows how to create three-dimensional scatter charts in F#.\n",
"\n",
"A Scatter3d chart report shows a three-dimensional spinnable view of your data\n",
"\n"]
          }
,
          {
           "cell_type": "code",
           "metadata": {},
            "execution_count": 3, "outputs": [], 
           "source": ["open Plotly.NET \n",
"  \n",
"let x = [19; 26; 55;]\n",
"let y = [19; 26; 55;]\n",
"let z = [19; 26; 55;]\n",
"\n",
"let scatter3d = \n",
"    Chart.Scatter3d(x,y,z,StyleParam.Mode.Markers)\n",
"    |\u003e Chart.withX_AxisStyle(\"my x-axis\")\n",
"    |\u003e Chart.withY_AxisStyle(\"my y-axis\")\n",
"    |\u003e Chart.withZ_AxisStyle(\"my z-axis\")\n",
"    |\u003e Chart.withSize(800.,800.)\n"]
          }
,
          {
           "cell_type": "code",
           "metadata": {},
            "execution_count": null, "outputs": [
          {
           "data": {
            "text/html": ["\u003cdiv id=\"ef6a538d-f9cf-4fcf-b6e8-a61261d359ca\" style=\"width: 800px; height: 800px;\"\u003e\u003c!-- Plotly chart will be drawn inside this DIV --\u003e\u003c/div\u003e",
"\u003cscript type=\"text/javascript\"\u003e",
"",
"            var renderPlotly_ef6a538df9cf4fcfb6e8a61261d359ca = function() {",
"            var fsharpPlotlyRequire = requirejs.config({context:\u0027fsharp-plotly\u0027,paths:{plotly:\u0027https://cdn.plot.ly/plotly-latest.min\u0027}}) || require;",
"            fsharpPlotlyRequire([\u0027plotly\u0027], function(Plotly) {",
"",
"            var data = [{\"type\":\"scatter3d\",\"x\":[19,26,55],\"y\":[19,26,55],\"z\":[19,26,55],\"mode\":\"markers\",\"line\":{},\"marker\":{}}];",
"            var layout = {\"scene\":{\"xaxis\":{\"title\":\"my x-axis\"},\"yaxis\":{\"title\":\"my y-axis\"},\"zaxis\":{\"title\":\"my z-axis\"}},\"width\":800.0,\"height\":800.0};",
"            var config = {};",
"            Plotly.newPlot(\u0027ef6a538d-f9cf-4fcf-b6e8-a61261d359ca\u0027, data, layout, config);",
"});",
"            };",
"            if ((typeof(requirejs) !==  typeof(Function)) || (typeof(requirejs.config) !== typeof(Function))) {",
"                var script = document.createElement(\"script\");",
"                script.setAttribute(\"src\", \"https://cdnjs.cloudflare.com/ajax/libs/require.js/2.3.6/require.min.js\");",
"                script.onload = function(){",
"                    renderPlotly_ef6a538df9cf4fcfb6e8a61261d359ca();",
"                };",
"                document.getElementsByTagName(\"head\")[0].appendChild(script);",
"            }",
"            else {",
"                renderPlotly_ef6a538df9cf4fcfb6e8a61261d359ca();",
"            }",
"\u003c/script\u003e",
""]
        },
           "execution_count": null,
           "metadata": {},
           "output_type": "execute_result"
          }], 
           "source": ["scatter3d\n"]
          }],
            "metadata": {
            "kernelspec": {"display_name": ".NET (F#)", "language": "F#", "name": ".net-fsharp"},
            "langauge_info": {
        "file_extension": ".fs",
        "mimetype": "text/x-fsharp",
        "name": "C#",
        "pygments_lexer": "fsharp",
        "version": "4.5"
        }
        },
            "nbformat": 4,
            "nbformat_minor": 1
        }
        


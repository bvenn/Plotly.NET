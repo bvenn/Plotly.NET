
        {
            "cells": [
          {
           "cell_type": "markdown",
           "metadata": {},
           
           "source": ["// can\u0027t yet format YamlFrontmatter ([\"title: Heatmaps\"; \"category: Simple Charts\"; \"categoryindex: 3\"; \"index: 8\"], Some { StartLine = 2 StartColumn = 0 EndLine = 6 EndColumn = 8 }) to pynb markdown\n",
"\n"]
          }
,
          {
           "cell_type": "code",
           "metadata": {},
            "execution_count": null, "outputs": [], 
           "source": ["#r \"nuget: Plotly.NET, 2.0.0\"\n",
"#r \"nuget: Plotly.NET.Interactive, 2.0.0\"\n"]
          }
,
          {
           "cell_type": "markdown",
           "metadata": {},
           
           "source": ["# Heatmaps\n",
"\n",
"[![Binder](https://plotly.net/img/badge-binder.svg)](https://mybinder.org/v2/gh/plotly/Plotly.NET/gh-pages?filepath=2_7_heatmaps.ipynb)\u0026emsp;\n",
"[![Script](https://plotly.net/img/badge-script.svg)](https://plotly.net/2_7_heatmaps.fsx)\u0026emsp;\n",
"[![Notebook](https://plotly.net/img/badge-notebook.svg)](https://plotly.net/2_7_heatmaps.ipynb)\n",
"\n",
"*Summary:* This example shows how to create heatmap charts in F#.\n",
"\n",
"let\u0027s first create some data for the purpose of creating example charts:\n",
"\n",
"\n"]
          }
,
          {
           "cell_type": "code",
           "metadata": {},
            "execution_count": 3, "outputs": [], 
           "source": ["open Plotly.NET \n",
" \n",
"let matrix =\n",
"    [[1.;1.5;0.7;2.7];\n",
"    [2.;0.5;1.2;1.4];\n",
"    [0.1;2.6;2.4;3.0];]\n",
"\n",
"let rownames = [\"p3\";\"p2\";\"p1\"]\n",
"let colnames = [\"Tp0\";\"Tp30\";\"Tp60\";\"Tp160\"]\n",
"\n",
"let colorscaleValue = \n",
"    StyleParam.Colorscale.Custom [(0.0,\"#3D9970\");(1.0,\"#001f3f\")]\n",
"\n",
"// Generating the Heatmap \n",
"let heat1 =\n",
"    Chart.Heatmap(\n",
"        matrix,colnames,rownames,\n",
"        Colorscale=colorscaleValue,\n",
"        Showscale=true\n",
"    )\n",
"    |\u003e Chart.withSize(700.,500.)\n",
"    |\u003e Chart.withMarginSize(Left=200.)\n"]
          }
,
          {
           "cell_type": "code",
           "metadata": {},
            "execution_count": null, "outputs": [
          {
           "data": {
            "text/html": ["\u003cdiv id=\"d404b4d0-b435-4222-9fa8-c03e900a3587\" style=\"width: 700px; height: 500px;\"\u003e\u003c!-- Plotly chart will be drawn inside this DIV --\u003e\u003c/div\u003e",
"\u003cscript type=\"text/javascript\"\u003e",
"",
"            var renderPlotly_d404b4d0b43542229fa8c03e900a3587 = function() {",
"            var fsharpPlotlyRequire = requirejs.config({context:\u0027fsharp-plotly\u0027,paths:{plotly:\u0027https://cdn.plot.ly/plotly-latest.min\u0027}}) || require;",
"            fsharpPlotlyRequire([\u0027plotly\u0027], function(Plotly) {",
"",
"            var data = [{\"type\":\"heatmap\",\"z\":[[1.0,1.5,0.7,2.7],[2.0,0.5,1.2,1.4],[0.1,2.6,2.4,3.0]],\"x\":[\"Tp0\",\"Tp30\",\"Tp60\",\"Tp160\"],\"y\":[\"p3\",\"p2\",\"p1\"],\"colorscale\":[[0.0,\"#3D9970\"],[1.0,\"#001f3f\"]],\"showscale\":true}];",
"            var layout = {\"width\":700.0,\"height\":500.0,\"margin\":{\"l\":200.0}};",
"            var config = {};",
"            Plotly.newPlot(\u0027d404b4d0-b435-4222-9fa8-c03e900a3587\u0027, data, layout, config);",
"});",
"            };",
"            if ((typeof(requirejs) !==  typeof(Function)) || (typeof(requirejs.config) !== typeof(Function))) {",
"                var script = document.createElement(\"script\");",
"                script.setAttribute(\"src\", \"https://cdnjs.cloudflare.com/ajax/libs/require.js/2.3.6/require.min.js\");",
"                script.onload = function(){",
"                    renderPlotly_d404b4d0b43542229fa8c03e900a3587();",
"                };",
"                document.getElementsByTagName(\"head\")[0].appendChild(script);",
"            }",
"            else {",
"                renderPlotly_d404b4d0b43542229fa8c03e900a3587();",
"            }",
"\u003c/script\u003e",
""]
        },
           "execution_count": null,
           "metadata": {},
           "output_type": "execute_result"
          }], 
           "source": ["heat1\n"]
          }
,
          {
           "cell_type": "markdown",
           "metadata": {},
           
           "source": ["A heatmap chart can be created using the `Chart.HeatMap` functions.\n",
"When creating heatmap charts, it is usually desirable to provide the values in matrix form, rownames and colnames.\n",
"\n",
"## Styling Colorbars\n",
"\n",
"All charts that contain colorbars can be styled by the `Chart.withColorBarStyle` function.\n",
"Here is an example that adds a title to the colorbar:\n",
"\n"]
          }
,
          {
           "cell_type": "code",
           "metadata": {},
            "execution_count": 5, "outputs": [], 
           "source": ["let heat2 =\n",
"    heat1\n",
"    |\u003e Chart.withColorBarStyle(\n",
"        \"Im the Colorbar\",\n",
"        TitleSide = StyleParam.Side.Right,\n",
"        TitleFont = Font.init(Size=20.)\n",
"    )\n"]
          }
,
          {
           "cell_type": "code",
           "metadata": {},
            "execution_count": null, "outputs": [
          {
           "data": {
            "text/html": ["\u003cdiv id=\"1517d3ae-1aa4-444b-a2f6-1cedac6c7a61\" style=\"width: 700px; height: 500px;\"\u003e\u003c!-- Plotly chart will be drawn inside this DIV --\u003e\u003c/div\u003e",
"\u003cscript type=\"text/javascript\"\u003e",
"",
"            var renderPlotly_1517d3ae1aa4444ba2f61cedac6c7a61 = function() {",
"            var fsharpPlotlyRequire = requirejs.config({context:\u0027fsharp-plotly\u0027,paths:{plotly:\u0027https://cdn.plot.ly/plotly-latest.min\u0027}}) || require;",
"            fsharpPlotlyRequire([\u0027plotly\u0027], function(Plotly) {",
"",
"            var data = [{\"type\":\"heatmap\",\"z\":[[1.0,1.5,0.7,2.7],[2.0,0.5,1.2,1.4],[0.1,2.6,2.4,3.0]],\"x\":[\"Tp0\",\"Tp30\",\"Tp60\",\"Tp160\"],\"y\":[\"p3\",\"p2\",\"p1\"],\"colorscale\":[[0.0,\"#3D9970\"],[1.0,\"#001f3f\"]],\"showscale\":true,\"colorbar\":{\"title\":\"Im the Colorbar\",\"titlefont\":{\"size\":20.0},\"titleside\":\"right\"}}];",
"            var layout = {\"width\":700.0,\"height\":500.0,\"margin\":{\"l\":200.0}};",
"            var config = {};",
"            Plotly.newPlot(\u00271517d3ae-1aa4-444b-a2f6-1cedac6c7a61\u0027, data, layout, config);",
"});",
"            };",
"            if ((typeof(requirejs) !==  typeof(Function)) || (typeof(requirejs.config) !== typeof(Function))) {",
"                var script = document.createElement(\"script\");",
"                script.setAttribute(\"src\", \"https://cdnjs.cloudflare.com/ajax/libs/require.js/2.3.6/require.min.js\");",
"                script.onload = function(){",
"                    renderPlotly_1517d3ae1aa4444ba2f61cedac6c7a61();",
"                };",
"                document.getElementsByTagName(\"head\")[0].appendChild(script);",
"            }",
"            else {",
"                renderPlotly_1517d3ae1aa4444ba2f61cedac6c7a61();",
"            }",
"\u003c/script\u003e",
""]
        },
           "execution_count": null,
           "metadata": {},
           "output_type": "execute_result"
          }], 
           "source": ["heat2\n"]
          }],
            "metadata": {
            "kernelspec": {"display_name": ".NET (F#)", "language": "F#", "name": ".net-fsharp"},
            "langauge_info": {
        "file_extension": ".fs",
        "mimetype": "text/x-fsharp",
        "name": "C#",
        "pygments_lexer": "fsharp",
        "version": "4.5"
        }
        },
            "nbformat": 4,
            "nbformat_minor": 1
        }
        

